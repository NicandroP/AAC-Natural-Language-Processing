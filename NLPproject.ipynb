{
  "nbformat": 4,
  "nbformat_minor": 0,
  "metadata": {
    "colab": {
      "provenance": [],
      "collapsed_sections": []
    },
    "kernelspec": {
      "name": "python3",
      "display_name": "Python 3"
    },
    "language_info": {
      "name": "python"
    },
    "widgets": {
      "application/vnd.jupyter.widget-state+json": {
        "08a9d164ce4341baa5e214371e5756a3": {
          "model_module": "@jupyter-widgets/controls",
          "model_name": "HBoxModel",
          "model_module_version": "1.5.0",
          "state": {
            "_dom_classes": [],
            "_model_module": "@jupyter-widgets/controls",
            "_model_module_version": "1.5.0",
            "_model_name": "HBoxModel",
            "_view_count": null,
            "_view_module": "@jupyter-widgets/controls",
            "_view_module_version": "1.5.0",
            "_view_name": "HBoxView",
            "box_style": "",
            "children": [
              "IPY_MODEL_18cc47692aac4880a23938155e9071f3",
              "IPY_MODEL_afdc0c2851e8439882fce9d0ba7b160f",
              "IPY_MODEL_0f7902030e4b480db104b2e2d3af1038"
            ],
            "layout": "IPY_MODEL_f8b6bfe775da45c7b3c732052f987469"
          }
        },
        "18cc47692aac4880a23938155e9071f3": {
          "model_module": "@jupyter-widgets/controls",
          "model_name": "HTMLModel",
          "model_module_version": "1.5.0",
          "state": {
            "_dom_classes": [],
            "_model_module": "@jupyter-widgets/controls",
            "_model_module_version": "1.5.0",
            "_model_name": "HTMLModel",
            "_view_count": null,
            "_view_module": "@jupyter-widgets/controls",
            "_view_module_version": "1.5.0",
            "_view_name": "HTMLView",
            "description": "",
            "description_tooltip": null,
            "layout": "IPY_MODEL_42d2cbd56536467fa889893c1aff8a33",
            "placeholder": "​",
            "style": "IPY_MODEL_e35676fe500a4370aeffb40709e81709",
            "value": "Downloading https://raw.githubusercontent.com/stanfordnlp/stanza-resources/main/resources_1.4.1.json: "
          }
        },
        "afdc0c2851e8439882fce9d0ba7b160f": {
          "model_module": "@jupyter-widgets/controls",
          "model_name": "FloatProgressModel",
          "model_module_version": "1.5.0",
          "state": {
            "_dom_classes": [],
            "_model_module": "@jupyter-widgets/controls",
            "_model_module_version": "1.5.0",
            "_model_name": "FloatProgressModel",
            "_view_count": null,
            "_view_module": "@jupyter-widgets/controls",
            "_view_module_version": "1.5.0",
            "_view_name": "ProgressView",
            "bar_style": "success",
            "description": "",
            "description_tooltip": null,
            "layout": "IPY_MODEL_ece02b25abee46c7b3bb47855d1b9afe",
            "max": 28918,
            "min": 0,
            "orientation": "horizontal",
            "style": "IPY_MODEL_9a012e39d12944ebaa3be34598cfb0ec",
            "value": 28918
          }
        },
        "0f7902030e4b480db104b2e2d3af1038": {
          "model_module": "@jupyter-widgets/controls",
          "model_name": "HTMLModel",
          "model_module_version": "1.5.0",
          "state": {
            "_dom_classes": [],
            "_model_module": "@jupyter-widgets/controls",
            "_model_module_version": "1.5.0",
            "_model_name": "HTMLModel",
            "_view_count": null,
            "_view_module": "@jupyter-widgets/controls",
            "_view_module_version": "1.5.0",
            "_view_name": "HTMLView",
            "description": "",
            "description_tooltip": null,
            "layout": "IPY_MODEL_daf3b55971624da1bca6ba4612d1e676",
            "placeholder": "​",
            "style": "IPY_MODEL_fa21d9c133ad4dc28dae710d2e67be2a",
            "value": " 193k/? [00:00&lt;00:00, 3.00MB/s]"
          }
        },
        "f8b6bfe775da45c7b3c732052f987469": {
          "model_module": "@jupyter-widgets/base",
          "model_name": "LayoutModel",
          "model_module_version": "1.2.0",
          "state": {
            "_model_module": "@jupyter-widgets/base",
            "_model_module_version": "1.2.0",
            "_model_name": "LayoutModel",
            "_view_count": null,
            "_view_module": "@jupyter-widgets/base",
            "_view_module_version": "1.2.0",
            "_view_name": "LayoutView",
            "align_content": null,
            "align_items": null,
            "align_self": null,
            "border": null,
            "bottom": null,
            "display": null,
            "flex": null,
            "flex_flow": null,
            "grid_area": null,
            "grid_auto_columns": null,
            "grid_auto_flow": null,
            "grid_auto_rows": null,
            "grid_column": null,
            "grid_gap": null,
            "grid_row": null,
            "grid_template_areas": null,
            "grid_template_columns": null,
            "grid_template_rows": null,
            "height": null,
            "justify_content": null,
            "justify_items": null,
            "left": null,
            "margin": null,
            "max_height": null,
            "max_width": null,
            "min_height": null,
            "min_width": null,
            "object_fit": null,
            "object_position": null,
            "order": null,
            "overflow": null,
            "overflow_x": null,
            "overflow_y": null,
            "padding": null,
            "right": null,
            "top": null,
            "visibility": null,
            "width": null
          }
        },
        "42d2cbd56536467fa889893c1aff8a33": {
          "model_module": "@jupyter-widgets/base",
          "model_name": "LayoutModel",
          "model_module_version": "1.2.0",
          "state": {
            "_model_module": "@jupyter-widgets/base",
            "_model_module_version": "1.2.0",
            "_model_name": "LayoutModel",
            "_view_count": null,
            "_view_module": "@jupyter-widgets/base",
            "_view_module_version": "1.2.0",
            "_view_name": "LayoutView",
            "align_content": null,
            "align_items": null,
            "align_self": null,
            "border": null,
            "bottom": null,
            "display": null,
            "flex": null,
            "flex_flow": null,
            "grid_area": null,
            "grid_auto_columns": null,
            "grid_auto_flow": null,
            "grid_auto_rows": null,
            "grid_column": null,
            "grid_gap": null,
            "grid_row": null,
            "grid_template_areas": null,
            "grid_template_columns": null,
            "grid_template_rows": null,
            "height": null,
            "justify_content": null,
            "justify_items": null,
            "left": null,
            "margin": null,
            "max_height": null,
            "max_width": null,
            "min_height": null,
            "min_width": null,
            "object_fit": null,
            "object_position": null,
            "order": null,
            "overflow": null,
            "overflow_x": null,
            "overflow_y": null,
            "padding": null,
            "right": null,
            "top": null,
            "visibility": null,
            "width": null
          }
        },
        "e35676fe500a4370aeffb40709e81709": {
          "model_module": "@jupyter-widgets/controls",
          "model_name": "DescriptionStyleModel",
          "model_module_version": "1.5.0",
          "state": {
            "_model_module": "@jupyter-widgets/controls",
            "_model_module_version": "1.5.0",
            "_model_name": "DescriptionStyleModel",
            "_view_count": null,
            "_view_module": "@jupyter-widgets/base",
            "_view_module_version": "1.2.0",
            "_view_name": "StyleView",
            "description_width": ""
          }
        },
        "ece02b25abee46c7b3bb47855d1b9afe": {
          "model_module": "@jupyter-widgets/base",
          "model_name": "LayoutModel",
          "model_module_version": "1.2.0",
          "state": {
            "_model_module": "@jupyter-widgets/base",
            "_model_module_version": "1.2.0",
            "_model_name": "LayoutModel",
            "_view_count": null,
            "_view_module": "@jupyter-widgets/base",
            "_view_module_version": "1.2.0",
            "_view_name": "LayoutView",
            "align_content": null,
            "align_items": null,
            "align_self": null,
            "border": null,
            "bottom": null,
            "display": null,
            "flex": null,
            "flex_flow": null,
            "grid_area": null,
            "grid_auto_columns": null,
            "grid_auto_flow": null,
            "grid_auto_rows": null,
            "grid_column": null,
            "grid_gap": null,
            "grid_row": null,
            "grid_template_areas": null,
            "grid_template_columns": null,
            "grid_template_rows": null,
            "height": null,
            "justify_content": null,
            "justify_items": null,
            "left": null,
            "margin": null,
            "max_height": null,
            "max_width": null,
            "min_height": null,
            "min_width": null,
            "object_fit": null,
            "object_position": null,
            "order": null,
            "overflow": null,
            "overflow_x": null,
            "overflow_y": null,
            "padding": null,
            "right": null,
            "top": null,
            "visibility": null,
            "width": null
          }
        },
        "9a012e39d12944ebaa3be34598cfb0ec": {
          "model_module": "@jupyter-widgets/controls",
          "model_name": "ProgressStyleModel",
          "model_module_version": "1.5.0",
          "state": {
            "_model_module": "@jupyter-widgets/controls",
            "_model_module_version": "1.5.0",
            "_model_name": "ProgressStyleModel",
            "_view_count": null,
            "_view_module": "@jupyter-widgets/base",
            "_view_module_version": "1.2.0",
            "_view_name": "StyleView",
            "bar_color": null,
            "description_width": ""
          }
        },
        "daf3b55971624da1bca6ba4612d1e676": {
          "model_module": "@jupyter-widgets/base",
          "model_name": "LayoutModel",
          "model_module_version": "1.2.0",
          "state": {
            "_model_module": "@jupyter-widgets/base",
            "_model_module_version": "1.2.0",
            "_model_name": "LayoutModel",
            "_view_count": null,
            "_view_module": "@jupyter-widgets/base",
            "_view_module_version": "1.2.0",
            "_view_name": "LayoutView",
            "align_content": null,
            "align_items": null,
            "align_self": null,
            "border": null,
            "bottom": null,
            "display": null,
            "flex": null,
            "flex_flow": null,
            "grid_area": null,
            "grid_auto_columns": null,
            "grid_auto_flow": null,
            "grid_auto_rows": null,
            "grid_column": null,
            "grid_gap": null,
            "grid_row": null,
            "grid_template_areas": null,
            "grid_template_columns": null,
            "grid_template_rows": null,
            "height": null,
            "justify_content": null,
            "justify_items": null,
            "left": null,
            "margin": null,
            "max_height": null,
            "max_width": null,
            "min_height": null,
            "min_width": null,
            "object_fit": null,
            "object_position": null,
            "order": null,
            "overflow": null,
            "overflow_x": null,
            "overflow_y": null,
            "padding": null,
            "right": null,
            "top": null,
            "visibility": null,
            "width": null
          }
        },
        "fa21d9c133ad4dc28dae710d2e67be2a": {
          "model_module": "@jupyter-widgets/controls",
          "model_name": "DescriptionStyleModel",
          "model_module_version": "1.5.0",
          "state": {
            "_model_module": "@jupyter-widgets/controls",
            "_model_module_version": "1.5.0",
            "_model_name": "DescriptionStyleModel",
            "_view_count": null,
            "_view_module": "@jupyter-widgets/base",
            "_view_module_version": "1.2.0",
            "_view_name": "StyleView",
            "description_width": ""
          }
        },
        "589a6eaab2a24b75b2dc08a1d0d10352": {
          "model_module": "@jupyter-widgets/controls",
          "model_name": "HBoxModel",
          "model_module_version": "1.5.0",
          "state": {
            "_dom_classes": [],
            "_model_module": "@jupyter-widgets/controls",
            "_model_module_version": "1.5.0",
            "_model_name": "HBoxModel",
            "_view_count": null,
            "_view_module": "@jupyter-widgets/controls",
            "_view_module_version": "1.5.0",
            "_view_name": "HBoxView",
            "box_style": "",
            "children": [
              "IPY_MODEL_04bbeb9452cb41fe8ab2741f4757eb90",
              "IPY_MODEL_8329f62f13bd4b8cb4fb4f4d555addaa",
              "IPY_MODEL_b777182e9074437abee953304d38f96b"
            ],
            "layout": "IPY_MODEL_755ebeb2a9894866accb7a50ec988320"
          }
        },
        "04bbeb9452cb41fe8ab2741f4757eb90": {
          "model_module": "@jupyter-widgets/controls",
          "model_name": "HTMLModel",
          "model_module_version": "1.5.0",
          "state": {
            "_dom_classes": [],
            "_model_module": "@jupyter-widgets/controls",
            "_model_module_version": "1.5.0",
            "_model_name": "HTMLModel",
            "_view_count": null,
            "_view_module": "@jupyter-widgets/controls",
            "_view_module_version": "1.5.0",
            "_view_name": "HTMLView",
            "description": "",
            "description_tooltip": null,
            "layout": "IPY_MODEL_76246c60e1704f969cf60eac92ff9870",
            "placeholder": "​",
            "style": "IPY_MODEL_0088bb204ff64f4894e27e8cdc62f506",
            "value": "Downloading https://raw.githubusercontent.com/stanfordnlp/stanza-resources/main/resources_1.4.1.json: "
          }
        },
        "8329f62f13bd4b8cb4fb4f4d555addaa": {
          "model_module": "@jupyter-widgets/controls",
          "model_name": "FloatProgressModel",
          "model_module_version": "1.5.0",
          "state": {
            "_dom_classes": [],
            "_model_module": "@jupyter-widgets/controls",
            "_model_module_version": "1.5.0",
            "_model_name": "FloatProgressModel",
            "_view_count": null,
            "_view_module": "@jupyter-widgets/controls",
            "_view_module_version": "1.5.0",
            "_view_name": "ProgressView",
            "bar_style": "success",
            "description": "",
            "description_tooltip": null,
            "layout": "IPY_MODEL_b86d5347e211407b9c0578868e5b4a5e",
            "max": 28918,
            "min": 0,
            "orientation": "horizontal",
            "style": "IPY_MODEL_e0e752bb2dcb4276ba7285ec8b1d8101",
            "value": 28918
          }
        },
        "b777182e9074437abee953304d38f96b": {
          "model_module": "@jupyter-widgets/controls",
          "model_name": "HTMLModel",
          "model_module_version": "1.5.0",
          "state": {
            "_dom_classes": [],
            "_model_module": "@jupyter-widgets/controls",
            "_model_module_version": "1.5.0",
            "_model_name": "HTMLModel",
            "_view_count": null,
            "_view_module": "@jupyter-widgets/controls",
            "_view_module_version": "1.5.0",
            "_view_name": "HTMLView",
            "description": "",
            "description_tooltip": null,
            "layout": "IPY_MODEL_d32946640e0f4f6299cfc3e4e68debbd",
            "placeholder": "​",
            "style": "IPY_MODEL_9e972032f2b945d082fdc3a19e8e3dda",
            "value": " 193k/? [00:00&lt;00:00, 4.28MB/s]"
          }
        },
        "755ebeb2a9894866accb7a50ec988320": {
          "model_module": "@jupyter-widgets/base",
          "model_name": "LayoutModel",
          "model_module_version": "1.2.0",
          "state": {
            "_model_module": "@jupyter-widgets/base",
            "_model_module_version": "1.2.0",
            "_model_name": "LayoutModel",
            "_view_count": null,
            "_view_module": "@jupyter-widgets/base",
            "_view_module_version": "1.2.0",
            "_view_name": "LayoutView",
            "align_content": null,
            "align_items": null,
            "align_self": null,
            "border": null,
            "bottom": null,
            "display": null,
            "flex": null,
            "flex_flow": null,
            "grid_area": null,
            "grid_auto_columns": null,
            "grid_auto_flow": null,
            "grid_auto_rows": null,
            "grid_column": null,
            "grid_gap": null,
            "grid_row": null,
            "grid_template_areas": null,
            "grid_template_columns": null,
            "grid_template_rows": null,
            "height": null,
            "justify_content": null,
            "justify_items": null,
            "left": null,
            "margin": null,
            "max_height": null,
            "max_width": null,
            "min_height": null,
            "min_width": null,
            "object_fit": null,
            "object_position": null,
            "order": null,
            "overflow": null,
            "overflow_x": null,
            "overflow_y": null,
            "padding": null,
            "right": null,
            "top": null,
            "visibility": null,
            "width": null
          }
        },
        "76246c60e1704f969cf60eac92ff9870": {
          "model_module": "@jupyter-widgets/base",
          "model_name": "LayoutModel",
          "model_module_version": "1.2.0",
          "state": {
            "_model_module": "@jupyter-widgets/base",
            "_model_module_version": "1.2.0",
            "_model_name": "LayoutModel",
            "_view_count": null,
            "_view_module": "@jupyter-widgets/base",
            "_view_module_version": "1.2.0",
            "_view_name": "LayoutView",
            "align_content": null,
            "align_items": null,
            "align_self": null,
            "border": null,
            "bottom": null,
            "display": null,
            "flex": null,
            "flex_flow": null,
            "grid_area": null,
            "grid_auto_columns": null,
            "grid_auto_flow": null,
            "grid_auto_rows": null,
            "grid_column": null,
            "grid_gap": null,
            "grid_row": null,
            "grid_template_areas": null,
            "grid_template_columns": null,
            "grid_template_rows": null,
            "height": null,
            "justify_content": null,
            "justify_items": null,
            "left": null,
            "margin": null,
            "max_height": null,
            "max_width": null,
            "min_height": null,
            "min_width": null,
            "object_fit": null,
            "object_position": null,
            "order": null,
            "overflow": null,
            "overflow_x": null,
            "overflow_y": null,
            "padding": null,
            "right": null,
            "top": null,
            "visibility": null,
            "width": null
          }
        },
        "0088bb204ff64f4894e27e8cdc62f506": {
          "model_module": "@jupyter-widgets/controls",
          "model_name": "DescriptionStyleModel",
          "model_module_version": "1.5.0",
          "state": {
            "_model_module": "@jupyter-widgets/controls",
            "_model_module_version": "1.5.0",
            "_model_name": "DescriptionStyleModel",
            "_view_count": null,
            "_view_module": "@jupyter-widgets/base",
            "_view_module_version": "1.2.0",
            "_view_name": "StyleView",
            "description_width": ""
          }
        },
        "b86d5347e211407b9c0578868e5b4a5e": {
          "model_module": "@jupyter-widgets/base",
          "model_name": "LayoutModel",
          "model_module_version": "1.2.0",
          "state": {
            "_model_module": "@jupyter-widgets/base",
            "_model_module_version": "1.2.0",
            "_model_name": "LayoutModel",
            "_view_count": null,
            "_view_module": "@jupyter-widgets/base",
            "_view_module_version": "1.2.0",
            "_view_name": "LayoutView",
            "align_content": null,
            "align_items": null,
            "align_self": null,
            "border": null,
            "bottom": null,
            "display": null,
            "flex": null,
            "flex_flow": null,
            "grid_area": null,
            "grid_auto_columns": null,
            "grid_auto_flow": null,
            "grid_auto_rows": null,
            "grid_column": null,
            "grid_gap": null,
            "grid_row": null,
            "grid_template_areas": null,
            "grid_template_columns": null,
            "grid_template_rows": null,
            "height": null,
            "justify_content": null,
            "justify_items": null,
            "left": null,
            "margin": null,
            "max_height": null,
            "max_width": null,
            "min_height": null,
            "min_width": null,
            "object_fit": null,
            "object_position": null,
            "order": null,
            "overflow": null,
            "overflow_x": null,
            "overflow_y": null,
            "padding": null,
            "right": null,
            "top": null,
            "visibility": null,
            "width": null
          }
        },
        "e0e752bb2dcb4276ba7285ec8b1d8101": {
          "model_module": "@jupyter-widgets/controls",
          "model_name": "ProgressStyleModel",
          "model_module_version": "1.5.0",
          "state": {
            "_model_module": "@jupyter-widgets/controls",
            "_model_module_version": "1.5.0",
            "_model_name": "ProgressStyleModel",
            "_view_count": null,
            "_view_module": "@jupyter-widgets/base",
            "_view_module_version": "1.2.0",
            "_view_name": "StyleView",
            "bar_color": null,
            "description_width": ""
          }
        },
        "d32946640e0f4f6299cfc3e4e68debbd": {
          "model_module": "@jupyter-widgets/base",
          "model_name": "LayoutModel",
          "model_module_version": "1.2.0",
          "state": {
            "_model_module": "@jupyter-widgets/base",
            "_model_module_version": "1.2.0",
            "_model_name": "LayoutModel",
            "_view_count": null,
            "_view_module": "@jupyter-widgets/base",
            "_view_module_version": "1.2.0",
            "_view_name": "LayoutView",
            "align_content": null,
            "align_items": null,
            "align_self": null,
            "border": null,
            "bottom": null,
            "display": null,
            "flex": null,
            "flex_flow": null,
            "grid_area": null,
            "grid_auto_columns": null,
            "grid_auto_flow": null,
            "grid_auto_rows": null,
            "grid_column": null,
            "grid_gap": null,
            "grid_row": null,
            "grid_template_areas": null,
            "grid_template_columns": null,
            "grid_template_rows": null,
            "height": null,
            "justify_content": null,
            "justify_items": null,
            "left": null,
            "margin": null,
            "max_height": null,
            "max_width": null,
            "min_height": null,
            "min_width": null,
            "object_fit": null,
            "object_position": null,
            "order": null,
            "overflow": null,
            "overflow_x": null,
            "overflow_y": null,
            "padding": null,
            "right": null,
            "top": null,
            "visibility": null,
            "width": null
          }
        },
        "9e972032f2b945d082fdc3a19e8e3dda": {
          "model_module": "@jupyter-widgets/controls",
          "model_name": "DescriptionStyleModel",
          "model_module_version": "1.5.0",
          "state": {
            "_model_module": "@jupyter-widgets/controls",
            "_model_module_version": "1.5.0",
            "_model_name": "DescriptionStyleModel",
            "_view_count": null,
            "_view_module": "@jupyter-widgets/base",
            "_view_module_version": "1.2.0",
            "_view_name": "StyleView",
            "description_width": ""
          }
        }
      }
    }
  },
  "cells": [
    {
      "cell_type": "code",
      "execution_count": 95,
      "metadata": {
        "colab": {
          "base_uri": "https://localhost:8080/",
          "height": 885,
          "referenced_widgets": [
            "08a9d164ce4341baa5e214371e5756a3",
            "18cc47692aac4880a23938155e9071f3",
            "afdc0c2851e8439882fce9d0ba7b160f",
            "0f7902030e4b480db104b2e2d3af1038",
            "f8b6bfe775da45c7b3c732052f987469",
            "42d2cbd56536467fa889893c1aff8a33",
            "e35676fe500a4370aeffb40709e81709",
            "ece02b25abee46c7b3bb47855d1b9afe",
            "9a012e39d12944ebaa3be34598cfb0ec",
            "daf3b55971624da1bca6ba4612d1e676",
            "fa21d9c133ad4dc28dae710d2e67be2a"
          ]
        },
        "id": "eqyrKBYfQ9cB",
        "outputId": "3e5700be-7195-472a-e677-1ed35d851842"
      },
      "outputs": [
        {
          "output_type": "stream",
          "name": "stdout",
          "text": [
            "Looking in indexes: https://pypi.org/simple, https://us-python.pkg.dev/colab-wheels/public/simple/\n",
            "Requirement already satisfied: stanza in /usr/local/lib/python3.7/dist-packages (1.4.2)\n",
            "Requirement already satisfied: torch>=1.3.0 in /usr/local/lib/python3.7/dist-packages (from stanza) (1.12.1+cu113)\n",
            "Requirement already satisfied: tqdm in /usr/local/lib/python3.7/dist-packages (from stanza) (4.64.1)\n",
            "Requirement already satisfied: six in /usr/local/lib/python3.7/dist-packages (from stanza) (1.15.0)\n",
            "Requirement already satisfied: emoji in /usr/local/lib/python3.7/dist-packages (from stanza) (2.2.0)\n",
            "Requirement already satisfied: protobuf in /usr/local/lib/python3.7/dist-packages (from stanza) (3.17.3)\n",
            "Requirement already satisfied: numpy in /usr/local/lib/python3.7/dist-packages (from stanza) (1.21.6)\n",
            "Requirement already satisfied: requests in /usr/local/lib/python3.7/dist-packages (from stanza) (2.23.0)\n",
            "Requirement already satisfied: typing-extensions in /usr/local/lib/python3.7/dist-packages (from torch>=1.3.0->stanza) (4.1.1)\n",
            "Requirement already satisfied: idna<3,>=2.5 in /usr/local/lib/python3.7/dist-packages (from requests->stanza) (2.10)\n",
            "Requirement already satisfied: chardet<4,>=3.0.2 in /usr/local/lib/python3.7/dist-packages (from requests->stanza) (3.0.4)\n",
            "Requirement already satisfied: certifi>=2017.4.17 in /usr/local/lib/python3.7/dist-packages (from requests->stanza) (2022.9.24)\n",
            "Requirement already satisfied: urllib3!=1.25.0,!=1.25.1,<1.26,>=1.21.1 in /usr/local/lib/python3.7/dist-packages (from requests->stanza) (1.24.3)\n",
            "Looking in indexes: https://pypi.org/simple, https://us-python.pkg.dev/colab-wheels/public/simple/\n",
            "Requirement already satisfied: PySimpleGUI in /usr/local/lib/python3.7/dist-packages (4.60.4)\n"
          ]
        },
        {
          "output_type": "stream",
          "name": "stderr",
          "text": [
            "INFO:stanza:Checking for updates to resources.json in case models have been updated.  Note: this behavior can be turned off with download_method=None or download_method=DownloadMethod.REUSE_RESOURCES\n"
          ]
        },
        {
          "output_type": "stream",
          "name": "stdout",
          "text": [
            "Drive already mounted at /content/drive; to attempt to forcibly remount, call drive.mount(\"/content/drive\", force_remount=True).\n"
          ]
        },
        {
          "output_type": "display_data",
          "data": {
            "text/plain": [
              "Downloading https://raw.githubusercontent.com/stanfordnlp/stanza-resources/main/resources_1.4.1.json:   0%|   …"
            ],
            "application/vnd.jupyter.widget-view+json": {
              "version_major": 2,
              "version_minor": 0,
              "model_id": "08a9d164ce4341baa5e214371e5756a3"
            }
          },
          "metadata": {}
        },
        {
          "output_type": "stream",
          "name": "stderr",
          "text": [
            "INFO:stanza:Loading these models for language: it (Italian):\n",
            "========================\n",
            "| Processor | Package  |\n",
            "------------------------\n",
            "| tokenize  | combined |\n",
            "| mwt       | combined |\n",
            "| pos       | combined |\n",
            "| lemma     | combined |\n",
            "========================\n",
            "\n",
            "INFO:stanza:Use device: cpu\n",
            "INFO:stanza:Loading: tokenize\n",
            "INFO:stanza:Loading: mwt\n",
            "INFO:stanza:Loading: pos\n",
            "INFO:stanza:Loading: lemma\n",
            "INFO:stanza:Done loading processors!\n"
          ]
        },
        {
          "output_type": "stream",
          "name": "stdout",
          "text": [
            "[('Gioco', 'NOUN', 'gioco', 'Gender=Masc|Number=Sing'), ('in', 'ADP', 'in', None), ('un', 'DET', 'uno', 'Definite=Ind|Gender=Masc|Number=Sing|PronType=Art'), ('campo', 'NOUN', 'campo', 'Gender=Masc|Number=Sing'), ('da', 'ADP', 'da', None), ('tennis', 'NOUN', 'tennis', 'Gender=Masc|Number=Sing')]\n",
            "info: ['gioco', 'indef', 'Sing', 9810]\n",
            "saving img n:  0\n",
            "info: ['in', 'indef', 'sing', 7034]\n",
            "saving img n:  1\n",
            "info: ['un', 'indef', 'Sing', 2627]\n",
            "saving img n:  2\n",
            "3 :  campo da tennis\n",
            "info: ['campo', 'indef', 'Sing', 5068]\n",
            "saving img n:  7\n",
            "words for images:  ['Gioco', 'in', 'un', 'campo da tennis']\n",
            "pics:  [9810, 7034, 2627, 5068]\n"
          ]
        },
        {
          "output_type": "execute_result",
          "data": {
            "text/plain": [
              "[9810, 7034, 2627, 5068]"
            ]
          },
          "metadata": {},
          "execution_count": 95
        }
      ],
      "source": [
        "import csv\n",
        "import pandas as pd\n",
        "import requests\n",
        "import urllib.request\n",
        "from IPython.display import Image\n",
        "import spacy\n",
        "from PIL import Image, ImageDraw, ImageFont\n",
        "!pip install -U stanza\n",
        "import stanza\n",
        "import string\n",
        "from os import listdir\n",
        "import matplotlib.pyplot as plt\n",
        "import os\n",
        "import re\n",
        "!pip install -U PySimpleGUI\n",
        "import PySimpleGUI as sg\n",
        "import matplotlib.pyplot as plt\n",
        "import numpy as np\n",
        "from PIL import Image, ImageTk,ImageDraw,ImageFont\n",
        "import warnings\n",
        "warnings.filterwarnings(\"ignore\")\n",
        "\n",
        "from google.colab import drive\n",
        "drive.mount(\"/content/drive\")\n",
        "\n",
        "def text_on_img(filename, text, size):\n",
        "\n",
        "    fnt = ImageFont.truetype('arial.ttf', size)\n",
        "    w,h = fnt.getsize(text)\n",
        "    W=int(size/1.5)*len(text)\n",
        "    H=size+50\n",
        "    # create image\n",
        "    image = Image.new(mode = \"RGB\", size = (int(size/1.5)*len(text),size+50), color = \"white\")\n",
        "    draw = ImageDraw.Draw(image)\n",
        "    # draw text\n",
        "    draw.text(((W-w)/2,(H-h)/2), text, font=fnt, fill=(0,0,0))\n",
        "    # save file\n",
        "    image.save(path_CAA_pictograms+filename)\n",
        "\n",
        "def getInfo(word):\n",
        "    global index\n",
        "    token = word[0]\n",
        "    type=word[1]\n",
        "    lemma=word[2]\n",
        "    gender=\"\"\n",
        "    if(type=='DET'):\n",
        "      lemma=token\n",
        "    if(type=='NOUN' or type=='DET' or type=='PRON' or type=='ADJ'):\n",
        "      if(word[3]!=None):\n",
        "\n",
        "        splitted=word[3].split(\"|\")\n",
        "        for i in range(len(splitted)):\n",
        "            if splitted[i].find(\"Gender\")!=-1:\n",
        "              gender=splitted[i].split(\"=\")[1]\n",
        "        if(gender==\"Fem\" and gender!=\"\"):\n",
        "          lemma=token\n",
        "    #lemma=word[2]\n",
        "    action = 'indef'\n",
        "    result = []\n",
        "\n",
        "    #identify if the word is a verb or auxiliar    \n",
        "    if (type == 'AUX'):\n",
        "        \n",
        "        tense=word[3].split(\"|\")[3].split(\"=\")[1]\n",
        "        \n",
        "        if(tense==\"Past\" or tense==\"Imp\"):\n",
        "          action=\"past\"\n",
        "        if(tense==\"Fut\"):\n",
        "          action='future'\n",
        "    \n",
        "    if (type == 'VERB'):\n",
        "        if not word[3].split(\"=\")[1]==\"Inf\":\n",
        "              \n",
        "            tense=word[3].split(\"|\")[2].split(\"=\")[1]\n",
        "            \n",
        "            if(tense==\"Past\" or tense==\"Imp\"):\n",
        "              action=\"past\"\n",
        "            if(tense==\"Fut\"):\n",
        "              action='future'\n",
        "    \n",
        "    result.append(lemma) #add to the list the token  #TOKENCAA [0]\n",
        "    result.append(action) #add to the list the action   #ACTION [1]\n",
        "\n",
        "    number=\"sing\"\n",
        "    if(type!='ADP' and type!='ADV' and type!='INTJ' and type!='PUNCT' and type!='CCONJ' and type!='PROPN' and type!='SCONJ' and type!='X'):\n",
        "      if(word[3]!=None):\n",
        "          \n",
        "        plural=word[3].split(\"|\")\n",
        "        \n",
        "        for i in range(len(plural)):\n",
        "            if plural[i].find(\"Number\")!=-1:\n",
        "              number=plural[i].split(\"=\")[1]\n",
        "              \n",
        "    result.append(number)\n",
        "    response = requests.get(\"https://api.arasaac.org/api/pictograms/it/search/\" + lemma) #Obtain best pictograms based on the searchText\n",
        "    status = response.status_code\n",
        "    if status == 200:\n",
        "\n",
        "      j = response.json()\n",
        "      keywords=[]\n",
        "      for word2 in j:\n",
        "          try:\n",
        "            keyword=word2[\"keywords\"][0][\"keyword\"]\n",
        "            if(len(keyword)>=len(token)):\n",
        "              if(len(keyword)>3):\n",
        "                keywords.append(keyword)\n",
        "          except:\n",
        "            print(\"Something went wrong\")\n",
        "      if(len(keywords)>0):\n",
        "        \"\"\"if(keywords[0]!=token):\n",
        "          keywords=[]\"\"\"\n",
        "        keywords=[s for s in keywords if s != lemma and s != word[2] ]\n",
        "        present=False\n",
        "        for keyword in keywords:\n",
        "            \n",
        "            if lemma_sentence.find(keyword)!=-1:\n",
        "                present=True\n",
        "                words=len(keyword.split(\" \"))\n",
        "                print(words,\": \",keyword)\n",
        "                global index\n",
        "                index+=words\n",
        "                global words_for_images\n",
        "                words_for_images.append(keyword)\n",
        "                response2 = requests.get(\"https://api.arasaac.org/api/pictograms/it/bestsearch/\" + keyword)\n",
        "                j2=response2.json()\n",
        "                id = j2[0]['_id']\n",
        "                result.append(id)\n",
        "                index+=1\n",
        "                return result\n",
        "                break\n",
        "    \n",
        "    response = requests.get(\"https://api.arasaac.org/api/pictograms/it/bestsearch/\" + lemma)\n",
        "    j = response.json()\n",
        "    status = response.status_code\n",
        "    if status == 200:\n",
        "      \n",
        "      id = j[0]['_id'] #extract id by response\n",
        "      result.append(id) #add to the list the id #ID [2]\n",
        "      \n",
        "      words_for_images.append(token)\n",
        "      \n",
        "      return result\n",
        "    elif status == 404:\n",
        "      print('404-no pictogram associated with this word exists =', lemma)\n",
        "      print('saving img n: ',index)\n",
        "      if(type=='VERB' or type=='AUX'):\n",
        "        text_on_img(filename=str(index)+\".png\",text=token, size=100)\n",
        "        words_for_images.append(token)\n",
        "        index_list.append(index)\n",
        "      else:\n",
        "        text_on_img(filename=str(index)+\".png\",text=lemma, size=100)\n",
        "        words_for_images.append(lemma)\n",
        "        index_list.append(index)\n",
        "      index+=1\n",
        "      \n",
        "      return result\n",
        "    elif status == 400:\n",
        "      print('400-no pictogram associated with this word exists =', lemma)\n",
        "      print('saving img n: ',index)\n",
        "      if(type=='VERB' or type=='AUX'):\n",
        "        text_on_img(filename=str(index)+\".png\",text=token, size=100)\n",
        "        words_for_images.append(token)\n",
        "        index_list.append(index)\n",
        "      else:\n",
        "        text_on_img(filename=str(index)+\".png\",text=lemma, size=100)\n",
        "        words_for_images.append(lemma)\n",
        "        index_list.append(index)\n",
        "      index+=1\n",
        "      \n",
        "      return result\n",
        "    elif status == 500:\n",
        "      print('500 status')\n",
        "      index+=1\n",
        "      words_for_images.append(lemma)\n",
        "      \n",
        "      return result\n",
        "    \n",
        "path_CAA_pictograms = \"/content/drive/MyDrive/immagini/\"\n",
        "\n",
        "def getArray_id(words):\n",
        "  array_id = []\n",
        "  infos=[]\n",
        "  global pics\n",
        "  pics=[]\n",
        "  global index\n",
        "  while index<len(words):\n",
        "    info = getInfo(words[index]) #TOKENCAA [0] | ACTION [1] | PLURAL_STATUS[2] | ID[3]\n",
        "    print(\"info:\",info)\n",
        "    if(len(info)==4):\n",
        "      pics.append(info[3])\n",
        "    infos.append(info)\n",
        "    if(len(info)==4):\n",
        "\n",
        "      action = info[1]\n",
        "      id = info[3]\n",
        "      plural_status = info[2]\n",
        "      array_id.append(id) #add id to array_id\n",
        "      getImg(id, plural_status,action) #save img\n",
        "  \n",
        "  return infos\n",
        "\n",
        "def getImg(id, plural_status,action): #parameter:id, plural_status, action\n",
        "  #print('id','id')\n",
        "  global index\n",
        "  global index_list\n",
        "  if plural_status==\"Plur\":\n",
        "    #Copy a network object denoted by a URL to a local file\n",
        "    urllib.request.urlretrieve('https://static.arasaac.org/pictograms/'+str(id)+'/'+str(id)+'_plural_300.png',\n",
        "   path_CAA_pictograms+str(index)+'.png')\n",
        "    print('saving img n: ',index)\n",
        "    index_list.append(index)\n",
        "    index+=1\n",
        "    \n",
        "  elif not action == 'indef':\n",
        "    #Copy a network object denoted by a URL to a local file\n",
        "    urllib.request.urlretrieve('https://static.arasaac.org/pictograms/'+str(id)+'/'+str(id)+'_action-'+action+'_300.png',\n",
        "   path_CAA_pictograms +str(index)+'.png')\n",
        "    print('saving img n: ',index)\n",
        "    index_list.append(index)\n",
        "    index+=1\n",
        "    \n",
        "  else:\n",
        "     #Copy a network object denoted by a URL to a local file\n",
        "    urllib.request.urlretrieve('https://static.arasaac.org/pictograms/'+str(id)+'/'+str(id)+'_300.png',\n",
        "   path_CAA_pictograms+str(index)+'.png')\n",
        "    print('saving img n: ',index)\n",
        "    index_list.append(index)\n",
        "    index+=1\n",
        "\n",
        "def translate(input_text):\n",
        "  global index\n",
        "  index=0\n",
        "  global index_list\n",
        "  index_list=[]\n",
        "  global lemma_sentence\n",
        "  lemma_sentence=\"\"\n",
        "  global words_for_images\n",
        "  words_for_images=[]\n",
        "  #stanza.download('it')\n",
        "  nlp=stanza.Pipeline('it',processors='tokenize,mwt,pos,lemma')\n",
        "  frase=str(input_text)\n",
        "  #print(frase)\n",
        "  frase=re.sub(r\"[-()\\\"#/@;:<>{}`+=~|$%&]\", \"\", frase)\n",
        "  #frase= input()\n",
        "  #words_for_images=[]\n",
        "\n",
        "  import glob\n",
        "  fileList = glob.glob('/content/drive/MyDrive/immagini/*.png')\n",
        "  for filePath in fileList:\n",
        "    os.remove(filePath)\n",
        "\n",
        "  doc=nlp(frase)\n",
        "  #index=0\n",
        "  lemmas=[]\n",
        "  for sentence in doc.sentences:\n",
        "      posT=[(w.text, w.pos,w.lemma,w.feats) for w in sentence.words]\n",
        "      print(posT)\n",
        "      for i in posT:\n",
        "        lemmas.append(i[2])\n",
        "      lemma_sentence=\"\"\n",
        "      for i in lemmas:\n",
        "        lemma_sentence+=i\n",
        "        lemma_sentence+=\" \"\n",
        "      getArray_id(posT)\n",
        "\n",
        "      print('words for images: ',words_for_images)\n",
        "      print('pics: ',pics)\n",
        "                      \n",
        "      #plt.show()\n",
        "      return(pics)\n",
        "\n",
        "index=0\n",
        "lemma_sentence=\"\"\n",
        "words_for_images=[]\n",
        "pics=[]\n",
        "\n",
        "\n",
        "translate(\"Gioco in un campo da tennis\")"
      ]
    },
    {
      "cell_type": "code",
      "source": [
        "from google.colab import widgets\n",
        "from IPython.display import Image, display\n",
        "\n",
        "grid=widgets.Grid(1,len(words_for_images),header_row=True,header_column=True)\n",
        "j=0\n",
        "for word, i in zip(words_for_images, index_list):\n",
        "  with grid.output_to(0, j):\n",
        "      print(word)\n",
        "      display(Image(path_CAA_pictograms+str(i)+'.png',width=70, height=70))\n",
        "      j+=1\n",
        "\n",
        "\n",
        " \n",
        " "
      ],
      "metadata": {
        "colab": {
          "base_uri": "https://localhost:8080/",
          "height": 108
        },
        "id": "BntLAV79dryL",
        "outputId": "1f773a79-59c7-4299-a265-930661d0b40a"
      },
      "execution_count": 96,
      "outputs": [
        {
          "output_type": "display_data",
          "data": {
            "text/plain": [
              "<IPython.core.display.HTML object>"
            ],
            "text/html": [
              "<style>\n",
              "       table#id64, #id64 > tbody > tr > th, #id64 > tbody > tr > td {\n",
              "         border: 1px solid lightgray;\n",
              "         border-collapse:collapse;\n",
              "         \n",
              "        }</style>"
            ]
          },
          "metadata": {}
        },
        {
          "output_type": "display_data",
          "data": {
            "text/plain": [
              "<IPython.core.display.HTML object>"
            ],
            "text/html": [
              "<table id=id64><tr><th id=id64-0-0></th><th id=id64-0-1></th><th id=id64-0-2></th><th id=id64-0-3></th></tr></table>"
            ]
          },
          "metadata": {}
        },
        {
          "output_type": "display_data",
          "data": {
            "text/plain": [
              "<IPython.core.display.Javascript object>"
            ],
            "application/javascript": [
              "window[\"770fdf80-59d5-11ed-a4f4-0242ac1c0002\"] = google.colab.output.getActiveOutputArea();\n",
              "//# sourceURL=js_106fa46833"
            ]
          },
          "metadata": {}
        },
        {
          "output_type": "display_data",
          "data": {
            "text/plain": [
              "<IPython.core.display.Javascript object>"
            ],
            "application/javascript": [
              "window[\"77140ae2-59d5-11ed-a4f4-0242ac1c0002\"] = document.querySelector(\"#id64-0-0\");\n",
              "//# sourceURL=js_e79c3c8d2f"
            ]
          },
          "metadata": {}
        },
        {
          "output_type": "display_data",
          "data": {
            "text/plain": [
              "<IPython.core.display.Javascript object>"
            ],
            "application/javascript": [
              "window[\"7718e0a8-59d5-11ed-a4f4-0242ac1c0002\"] = google.colab.output.setActiveOutputArea(window[\"77140ae2-59d5-11ed-a4f4-0242ac1c0002\"]);\n",
              "//# sourceURL=js_bc15f9e1e3"
            ]
          },
          "metadata": {}
        },
        {
          "output_type": "stream",
          "name": "stdout",
          "text": [
            "Gioco\n"
          ]
        },
        {
          "output_type": "display_data",
          "data": {
            "image/png": "[encoded data removed]",
            "text/plain": [
              "<IPython.core.display.Image object>"
            ]
          },
          "metadata": {
            "image/png": {
              "width": 70,
              "height": 70
            }
          }
        },
        {
          "output_type": "display_data",
          "data": {
            "text/plain": [
              "<IPython.core.display.Javascript object>"
            ],
            "application/javascript": [
              "window[\"772cb600-59d5-11ed-a4f4-0242ac1c0002\"] = google.colab.output.setActiveOutputArea(window[\"770fdf80-59d5-11ed-a4f4-0242ac1c0002\"]);\n",
              "//# sourceURL=js_a44ce587c3"
            ]
          },
          "metadata": {}
        },
        {
          "output_type": "display_data",
          "data": {
            "text/plain": [
              "<IPython.core.display.Javascript object>"
            ],
            "application/javascript": [
              "window[\"773a812c-59d5-11ed-a4f4-0242ac1c0002\"] = google.colab.output.getActiveOutputArea();\n",
              "//# sourceURL=js_2186728496"
            ]
          },
          "metadata": {}
        },
        {
          "output_type": "display_data",
          "data": {
            "text/plain": [
              "<IPython.core.display.Javascript object>"
            ],
            "application/javascript": [
              "window[\"773b2dde-59d5-11ed-a4f4-0242ac1c0002\"] = document.querySelector(\"#id64-0-1\");\n",
              "//# sourceURL=js_8a663d0d1e"
            ]
          },
          "metadata": {}
        },
        {
          "output_type": "display_data",
          "data": {
            "text/plain": [
              "<IPython.core.display.Javascript object>"
            ],
            "application/javascript": [
              "window[\"773ccf90-59d5-11ed-a4f4-0242ac1c0002\"] = google.colab.output.setActiveOutputArea(window[\"773b2dde-59d5-11ed-a4f4-0242ac1c0002\"]);\n",
              "//# sourceURL=js_86e707f212"
            ]
          },
          "metadata": {}
        },
        {
          "output_type": "stream",
          "name": "stdout",
          "text": [
            "in\n"
          ]
        },
        {
          "output_type": "display_data",
          "data": {
            "image/png": "[encoded data removed]",
            "text/plain": [
              "<IPython.core.display.Image object>"
            ]
          },
          "metadata": {
            "image/png": {
              "width": 70,
              "height": 70
            }
          }
        },
        {
          "output_type": "display_data",
          "data": {
            "text/plain": [
              "<IPython.core.display.Javascript object>"
            ],
            "application/javascript": [
              "window[\"774508b8-59d5-11ed-a4f4-0242ac1c0002\"] = google.colab.output.setActiveOutputArea(window[\"773a812c-59d5-11ed-a4f4-0242ac1c0002\"]);\n",
              "//# sourceURL=js_c87629bb28"
            ]
          },
          "metadata": {}
        },
        {
          "output_type": "display_data",
          "data": {
            "text/plain": [
              "<IPython.core.display.Javascript object>"
            ],
            "application/javascript": [
              "window[\"774cb964-59d5-11ed-a4f4-0242ac1c0002\"] = google.colab.output.getActiveOutputArea();\n",
              "//# sourceURL=js_3e105bd54f"
            ]
          },
          "metadata": {}
        },
        {
          "output_type": "display_data",
          "data": {
            "text/plain": [
              "<IPython.core.display.Javascript object>"
            ],
            "application/javascript": [
              "window[\"774daa36-59d5-11ed-a4f4-0242ac1c0002\"] = document.querySelector(\"#id64-0-2\");\n",
              "//# sourceURL=js_94a57c5aa2"
            ]
          },
          "metadata": {}
        },
        {
          "output_type": "display_data",
          "data": {
            "text/plain": [
              "<IPython.core.display.Javascript object>"
            ],
            "application/javascript": [
              "window[\"774f021e-59d5-11ed-a4f4-0242ac1c0002\"] = google.colab.output.setActiveOutputArea(window[\"774daa36-59d5-11ed-a4f4-0242ac1c0002\"]);\n",
              "//# sourceURL=js_8ff2f50993"
            ]
          },
          "metadata": {}
        },
        {
          "output_type": "stream",
          "name": "stdout",
          "text": [
            "un\n"
          ]
        },
        {
          "output_type": "display_data",
          "data": {
            "image/png": "[encoded data removed]",
            "text/plain": [
              "<IPython.core.display.Image object>"
            ]
          },
          "metadata": {
            "image/png": {
              "width": 70,
              "height": 70
            }
          }
        },
        {
          "output_type": "display_data",
          "data": {
            "text/plain": [
              "<IPython.core.display.Javascript object>"
            ],
            "application/javascript": [
              "window[\"775355e4-59d5-11ed-a4f4-0242ac1c0002\"] = google.colab.output.setActiveOutputArea(window[\"774cb964-59d5-11ed-a4f4-0242ac1c0002\"]);\n",
              "//# sourceURL=js_24e2397e40"
            ]
          },
          "metadata": {}
        },
        {
          "output_type": "display_data",
          "data": {
            "text/plain": [
              "<IPython.core.display.Javascript object>"
            ],
            "application/javascript": [
              "window[\"77586bd8-59d5-11ed-a4f4-0242ac1c0002\"] = google.colab.output.getActiveOutputArea();\n",
              "//# sourceURL=js_f60cb26847"
            ]
          },
          "metadata": {}
        },
        {
          "output_type": "display_data",
          "data": {
            "text/plain": [
              "<IPython.core.display.Javascript object>"
            ],
            "application/javascript": [
              "window[\"77590e1c-59d5-11ed-a4f4-0242ac1c0002\"] = document.querySelector(\"#id64-0-3\");\n",
              "//# sourceURL=js_303861d903"
            ]
          },
          "metadata": {}
        },
        {
          "output_type": "display_data",
          "data": {
            "text/plain": [
              "<IPython.core.display.Javascript object>"
            ],
            "application/javascript": [
              "window[\"7759eec2-59d5-11ed-a4f4-0242ac1c0002\"] = google.colab.output.setActiveOutputArea(window[\"77590e1c-59d5-11ed-a4f4-0242ac1c0002\"]);\n",
              "//# sourceURL=js_b44237056c"
            ]
          },
          "metadata": {}
        },
        {
          "output_type": "stream",
          "name": "stdout",
          "text": [
            "campo da tennis\n"
          ]
        },
        {
          "output_type": "display_data",
          "data": {
            "image/png": "[encoded data removed]",
            "text/plain": [
              "<IPython.core.display.Image object>"
            ]
          },
          "metadata": {
            "image/png": {
              "width": 70,
              "height": 70
            }
          }
        },
        {
          "output_type": "display_data",
          "data": {
            "text/plain": [
              "<IPython.core.display.Javascript object>"
            ],
            "application/javascript": [
              "window[\"775f0286-59d5-11ed-a4f4-0242ac1c0002\"] = google.colab.output.setActiveOutputArea(window[\"77586bd8-59d5-11ed-a4f4-0242ac1c0002\"]);\n",
              "//# sourceURL=js_b4a61bde5d"
            ]
          },
          "metadata": {}
        }
      ]
    },
    {
      "cell_type": "code",
      "source": [
        "sentences_book = pd.read_csv('/content/drive/MyDrive/sentences_book.csv')\n",
        "sentences=[]\n",
        "for i in range(len(sentences_book)):\n",
        "  sentences.append(sentences_book[\"Column1\"][i])\n",
        "\n",
        "translate(sentences[0])\n",
        "grid=widgets.Grid(1,len(words_for_images),header_row=True,header_column=True)\n",
        "j=0\n",
        "for word, i in zip(words_for_images, index_list):\n",
        "  with grid.output_to(0, j):\n",
        "      print(word)\n",
        "      display(Image(path_CAA_pictograms+str(i)+'.png',width=70, height=70))\n",
        "      j+=1\n",
        "\n"
      ],
      "metadata": {
        "colab": {
          "base_uri": "https://localhost:8080/",
          "height": 699,
          "referenced_widgets": [
            "589a6eaab2a24b75b2dc08a1d0d10352",
            "04bbeb9452cb41fe8ab2741f4757eb90",
            "8329f62f13bd4b8cb4fb4f4d555addaa",
            "b777182e9074437abee953304d38f96b",
            "755ebeb2a9894866accb7a50ec988320",
            "76246c60e1704f969cf60eac92ff9870",
            "0088bb204ff64f4894e27e8cdc62f506",
            "b86d5347e211407b9c0578868e5b4a5e",
            "e0e752bb2dcb4276ba7285ec8b1d8101",
            "d32946640e0f4f6299cfc3e4e68debbd",
            "9e972032f2b945d082fdc3a19e8e3dda"
          ]
        },
        "id": "zQTQNPpEzyDS",
        "outputId": "fda5fb6e-c882-4df5-d51c-0797ffdf5e05"
      },
      "execution_count": 105,
      "outputs": [
        {
          "output_type": "stream",
          "name": "stderr",
          "text": [
            "INFO:stanza:Checking for updates to resources.json in case models have been updated.  Note: this behavior can be turned off with download_method=None or download_method=DownloadMethod.REUSE_RESOURCES\n"
          ]
        },
        {
          "output_type": "display_data",
          "data": {
            "text/plain": [
              "Downloading https://raw.githubusercontent.com/stanfordnlp/stanza-resources/main/resources_1.4.1.json:   0%|   …"
            ],
            "application/vnd.jupyter.widget-view+json": {
              "version_major": 2,
              "version_minor": 0,
              "model_id": "589a6eaab2a24b75b2dc08a1d0d10352"
            }
          },
          "metadata": {}
        },
        {
          "output_type": "stream",
          "name": "stderr",
          "text": [
            "INFO:stanza:Loading these models for language: it (Italian):\n",
            "========================\n",
            "| Processor | Package  |\n",
            "------------------------\n",
            "| tokenize  | combined |\n",
            "| mwt       | combined |\n",
            "| pos       | combined |\n",
            "| lemma     | combined |\n",
            "========================\n",
            "\n",
            "INFO:stanza:Use device: cpu\n",
            "INFO:stanza:Loading: tokenize\n",
            "INFO:stanza:Loading: mwt\n",
            "INFO:stanza:Loading: pos\n",
            "INFO:stanza:Loading: lemma\n",
            "INFO:stanza:Done loading processors!\n"
          ]
        },
        {
          "output_type": "stream",
          "name": "stdout",
          "text": [
            "[('il', 'DET', 'il', 'Definite=Def|Gender=Masc|Number=Sing|PronType=Art'), ('dono', 'NOUN', 'dono', 'Gender=Masc|Number=Sing'), ('di', 'ADP', 'di', None), ('il', 'DET', 'il', 'Definite=Def|Gender=Masc|Number=Sing|PronType=Art'), ('Natale', 'PROPN', 'Natale', None)]\n",
            "info: ['il', 'indef', 'Sing', 8476]\n",
            "saving img n:  0\n",
            "info: ['dono', 'indef', 'Sing', 3149]\n",
            "saving img n:  1\n",
            "info: ['di', 'indef', 'sing', 7074]\n",
            "saving img n:  2\n",
            "info: ['il', 'indef', 'Sing', 8476]\n",
            "saving img n:  3\n",
            "Something went wrong\n",
            "info: ['Natale', 'indef', 'sing', 3134]\n",
            "saving img n:  4\n",
            "words for images:  ['il', 'dono', 'di', 'il', 'Natale']\n",
            "pics:  [8476, 3149, 7074, 8476, 3134]\n"
          ]
        },
        {
          "output_type": "display_data",
          "data": {
            "text/plain": [
              "<IPython.core.display.HTML object>"
            ],
            "text/html": [
              "<style>\n",
              "       table#id66, #id66 > tbody > tr > th, #id66 > tbody > tr > td {\n",
              "         border: 1px solid lightgray;\n",
              "         border-collapse:collapse;\n",
              "         \n",
              "        }</style>"
            ]
          },
          "metadata": {}
        },
        {
          "output_type": "display_data",
          "data": {
            "text/plain": [
              "<IPython.core.display.HTML object>"
            ],
            "text/html": [
              "<table id=id66><tr><th id=id66-0-0></th><th id=id66-0-1></th><th id=id66-0-2></th><th id=id66-0-3></th><th id=id66-0-4></th></tr></table>"
            ]
          },
          "metadata": {}
        },
        {
          "output_type": "display_data",
          "data": {
            "text/plain": [
              "<IPython.core.display.Javascript object>"
            ],
            "application/javascript": [
              "window[\"f03926c8-59d5-11ed-a4f4-0242ac1c0002\"] = google.colab.output.getActiveOutputArea();\n",
              "//# sourceURL=js_695b617d45"
            ]
          },
          "metadata": {}
        },
        {
          "output_type": "display_data",
          "data": {
            "text/plain": [
              "<IPython.core.display.Javascript object>"
            ],
            "application/javascript": [
              "window[\"f039975c-59d5-11ed-a4f4-0242ac1c0002\"] = document.querySelector(\"#id66-0-0\");\n",
              "//# sourceURL=js_690f1fe0f9"
            ]
          },
          "metadata": {}
        },
        {
          "output_type": "display_data",
          "data": {
            "text/plain": [
              "<IPython.core.display.Javascript object>"
            ],
            "application/javascript": [
              "window[\"f039fd1e-59d5-11ed-a4f4-0242ac1c0002\"] = google.colab.output.setActiveOutputArea(window[\"f039975c-59d5-11ed-a4f4-0242ac1c0002\"]);\n",
              "//# sourceURL=js_8a7b47af08"
            ]
          },
          "metadata": {}
        },
        {
          "output_type": "stream",
          "name": "stdout",
          "text": [
            "il\n"
          ]
        },
        {
          "output_type": "display_data",
          "data": {
            "image/png": "[encoded data removed]",
            "text/plain": [
              "<IPython.core.display.Image object>"
            ]
          },
          "metadata": {
            "image/png": {
              "width": 70,
              "height": 70
            }
          }
        },
        {
          "output_type": "display_data",
          "data": {
            "text/plain": [
              "<IPython.core.display.Javascript object>"
            ],
            "application/javascript": [
              "window[\"f03c3e62-59d5-11ed-a4f4-0242ac1c0002\"] = google.colab.output.setActiveOutputArea(window[\"f03926c8-59d5-11ed-a4f4-0242ac1c0002\"]);\n",
              "//# sourceURL=js_a961457d9b"
            ]
          },
          "metadata": {}
        },
        {
          "output_type": "display_data",
          "data": {
            "text/plain": [
              "<IPython.core.display.Javascript object>"
            ],
            "application/javascript": [
              "window[\"f03ec40c-59d5-11ed-a4f4-0242ac1c0002\"] = google.colab.output.getActiveOutputArea();\n",
              "//# sourceURL=js_5d2f6aec9f"
            ]
          },
          "metadata": {}
        },
        {
          "output_type": "display_data",
          "data": {
            "text/plain": [
              "<IPython.core.display.Javascript object>"
            ],
            "application/javascript": [
              "window[\"f03f3c20-59d5-11ed-a4f4-0242ac1c0002\"] = document.querySelector(\"#id66-0-1\");\n",
              "//# sourceURL=js_f6c9a9793d"
            ]
          },
          "metadata": {}
        },
        {
          "output_type": "display_data",
          "data": {
            "text/plain": [
              "<IPython.core.display.Javascript object>"
            ],
            "application/javascript": [
              "window[\"f03f97c4-59d5-11ed-a4f4-0242ac1c0002\"] = google.colab.output.setActiveOutputArea(window[\"f03f3c20-59d5-11ed-a4f4-0242ac1c0002\"]);\n",
              "//# sourceURL=js_6bf7f850cf"
            ]
          },
          "metadata": {}
        },
        {
          "output_type": "stream",
          "name": "stdout",
          "text": [
            "dono\n"
          ]
        },
        {
          "output_type": "display_data",
          "data": {
            "image/png": "[encoded data removed]",
            "text/plain": [
              "<IPython.core.display.Image object>"
            ]
          },
          "metadata": {
            "image/png": {
              "width": 70,
              "height": 70
            }
          }
        },
        {
          "output_type": "display_data",
          "data": {
            "text/plain": [
              "<IPython.core.display.Javascript object>"
            ],
            "application/javascript": [
              "window[\"f041e308-59d5-11ed-a4f4-0242ac1c0002\"] = google.colab.output.setActiveOutputArea(window[\"f03ec40c-59d5-11ed-a4f4-0242ac1c0002\"]);\n",
              "//# sourceURL=js_af9299d552"
            ]
          },
          "metadata": {}
        },
        {
          "output_type": "display_data",
          "data": {
            "text/plain": [
              "<IPython.core.display.Javascript object>"
            ],
            "application/javascript": [
              "window[\"f0445f5c-59d5-11ed-a4f4-0242ac1c0002\"] = google.colab.output.getActiveOutputArea();\n",
              "//# sourceURL=js_71540a667e"
            ]
          },
          "metadata": {}
        },
        {
          "output_type": "display_data",
          "data": {
            "text/plain": [
              "<IPython.core.display.Javascript object>"
            ],
            "application/javascript": [
              "window[\"f044cbfe-59d5-11ed-a4f4-0242ac1c0002\"] = document.querySelector(\"#id66-0-2\");\n",
              "//# sourceURL=js_e300589b84"
            ]
          },
          "metadata": {}
        },
        {
          "output_type": "display_data",
          "data": {
            "text/plain": [
              "<IPython.core.display.Javascript object>"
            ],
            "application/javascript": [
              "window[\"f0452b4e-59d5-11ed-a4f4-0242ac1c0002\"] = google.colab.output.setActiveOutputArea(window[\"f044cbfe-59d5-11ed-a4f4-0242ac1c0002\"]);\n",
              "//# sourceURL=js_251aaf4f26"
            ]
          },
          "metadata": {}
        },
        {
          "output_type": "stream",
          "name": "stdout",
          "text": [
            "di\n"
          ]
        },
        {
          "output_type": "display_data",
          "data": {
            "image/png": "[encoded data removed]",
            "text/plain": [
              "<IPython.core.display.Image object>"
            ]
          },
          "metadata": {
            "image/png": {
              "width": 70,
              "height": 70
            }
          }
        },
        {
          "output_type": "display_data",
          "data": {
            "text/plain": [
              "<IPython.core.display.Javascript object>"
            ],
            "application/javascript": [
              "window[\"f0476206-59d5-11ed-a4f4-0242ac1c0002\"] = google.colab.output.setActiveOutputArea(window[\"f0445f5c-59d5-11ed-a4f4-0242ac1c0002\"]);\n",
              "//# sourceURL=js_2f70e8bd18"
            ]
          },
          "metadata": {}
        },
        {
          "output_type": "display_data",
          "data": {
            "text/plain": [
              "<IPython.core.display.Javascript object>"
            ],
            "application/javascript": [
              "window[\"f04a0736-59d5-11ed-a4f4-0242ac1c0002\"] = google.colab.output.getActiveOutputArea();\n",
              "//# sourceURL=js_45dced6e4c"
            ]
          },
          "metadata": {}
        },
        {
          "output_type": "display_data",
          "data": {
            "text/plain": [
              "<IPython.core.display.Javascript object>"
            ],
            "application/javascript": [
              "window[\"f04a70cc-59d5-11ed-a4f4-0242ac1c0002\"] = document.querySelector(\"#id66-0-3\");\n",
              "//# sourceURL=js_eb7929f3e6"
            ]
          },
          "metadata": {}
        },
        {
          "output_type": "display_data",
          "data": {
            "text/plain": [
              "<IPython.core.display.Javascript object>"
            ],
            "application/javascript": [
              "window[\"f04ad742-59d5-11ed-a4f4-0242ac1c0002\"] = google.colab.output.setActiveOutputArea(window[\"f04a70cc-59d5-11ed-a4f4-0242ac1c0002\"]);\n",
              "//# sourceURL=js_afc1b47d4f"
            ]
          },
          "metadata": {}
        },
        {
          "output_type": "stream",
          "name": "stdout",
          "text": [
            "il\n"
          ]
        },
        {
          "output_type": "display_data",
          "data": {
            "image/png": "[encoded data removed]",
            "text/plain": [
              "<IPython.core.display.Image object>"
            ]
          },
          "metadata": {
            "image/png": {
              "width": 70,
              "height": 70
            }
          }
        },
        {
          "output_type": "display_data",
          "data": {
            "text/plain": [
              "<IPython.core.display.Javascript object>"
            ],
            "application/javascript": [
              "window[\"f04d1dfe-59d5-11ed-a4f4-0242ac1c0002\"] = google.colab.output.setActiveOutputArea(window[\"f04a0736-59d5-11ed-a4f4-0242ac1c0002\"]);\n",
              "//# sourceURL=js_7ff032474c"
            ]
          },
          "metadata": {}
        },
        {
          "output_type": "display_data",
          "data": {
            "text/plain": [
              "<IPython.core.display.Javascript object>"
            ],
            "application/javascript": [
              "window[\"f04f9296-59d5-11ed-a4f4-0242ac1c0002\"] = google.colab.output.getActiveOutputArea();\n",
              "//# sourceURL=js_99661805ea"
            ]
          },
          "metadata": {}
        },
        {
          "output_type": "display_data",
          "data": {
            "text/plain": [
              "<IPython.core.display.Javascript object>"
            ],
            "application/javascript": [
              "window[\"f04ffc36-59d5-11ed-a4f4-0242ac1c0002\"] = document.querySelector(\"#id66-0-4\");\n",
              "//# sourceURL=js_77a14f3081"
            ]
          },
          "metadata": {}
        },
        {
          "output_type": "display_data",
          "data": {
            "text/plain": [
              "<IPython.core.display.Javascript object>"
            ],
            "application/javascript": [
              "window[\"f0506874-59d5-11ed-a4f4-0242ac1c0002\"] = google.colab.output.setActiveOutputArea(window[\"f04ffc36-59d5-11ed-a4f4-0242ac1c0002\"]);\n",
              "//# sourceURL=js_ee41cf3e27"
            ]
          },
          "metadata": {}
        },
        {
          "output_type": "stream",
          "name": "stdout",
          "text": [
            "Natale\n"
          ]
        },
        {
          "output_type": "display_data",
          "data": {
            "image/png": "[encoded data removed]",
            "text/plain": [
              "<IPython.core.display.Image object>"
            ]
          },
          "metadata": {
            "image/png": {
              "width": 70,
              "height": 70
            }
          }
        },
        {
          "output_type": "display_data",
          "data": {
            "text/plain": [
              "<IPython.core.display.Javascript object>"
            ],
            "application/javascript": [
              "window[\"f052a562-59d5-11ed-a4f4-0242ac1c0002\"] = google.colab.output.setActiveOutputArea(window[\"f04f9296-59d5-11ed-a4f4-0242ac1c0002\"]);\n",
              "//# sourceURL=js_6cef505962"
            ]
          },
          "metadata": {}
        }
      ]
    }
  ]
}