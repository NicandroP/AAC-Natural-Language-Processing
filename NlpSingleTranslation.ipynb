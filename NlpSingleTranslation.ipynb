{
  "nbformat": 4,
  "nbformat_minor": 0,
  "metadata": {
    "colab": {
      "provenance": []
    },
    "kernelspec": {
      "name": "python3",
      "display_name": "Python 3"
    },
    "language_info": {
      "name": "python"
    },
    "widgets": {
      "application/vnd.jupyter.widget-state+json": {
        "cc5dab8c9e8640f08107f347f268a498": {
          "model_module": "@jupyter-widgets/controls",
          "model_name": "HBoxModel",
          "model_module_version": "1.5.0",
          "state": {
            "_dom_classes": [],
            "_model_module": "@jupyter-widgets/controls",
            "_model_module_version": "1.5.0",
            "_model_name": "HBoxModel",
            "_view_count": null,
            "_view_module": "@jupyter-widgets/controls",
            "_view_module_version": "1.5.0",
            "_view_name": "HBoxView",
            "box_style": "",
            "children": [
              "IPY_MODEL_9c8a002ccf064ccb85a7b3e3b75bbe07",
              "IPY_MODEL_b9c79af753e244b592211e20e2af5545",
              "IPY_MODEL_b077900618e54cf2b82b5a0cb980bf4a"
            ],
            "layout": "IPY_MODEL_d15a8a203b724bf0aa506a24dd0ef347"
          }
        },
        "9c8a002ccf064ccb85a7b3e3b75bbe07": {
          "model_module": "@jupyter-widgets/controls",
          "model_name": "HTMLModel",
          "model_module_version": "1.5.0",
          "state": {
            "_dom_classes": [],
            "_model_module": "@jupyter-widgets/controls",
            "_model_module_version": "1.5.0",
            "_model_name": "HTMLModel",
            "_view_count": null,
            "_view_module": "@jupyter-widgets/controls",
            "_view_module_version": "1.5.0",
            "_view_name": "HTMLView",
            "description": "",
            "description_tooltip": null,
            "layout": "IPY_MODEL_7fc15d0e3e2242e38f9956955a466b38",
            "placeholder": "​",
            "style": "IPY_MODEL_96d6f5385bb549e3bfc5fdc9a34758c3",
            "value": "Downloading https://raw.githubusercontent.com/stanfordnlp/stanza-resources/main/resources_1.4.1.json: "
          }
        },
        "b9c79af753e244b592211e20e2af5545": {
          "model_module": "@jupyter-widgets/controls",
          "model_name": "FloatProgressModel",
          "model_module_version": "1.5.0",
          "state": {
            "_dom_classes": [],
            "_model_module": "@jupyter-widgets/controls",
            "_model_module_version": "1.5.0",
            "_model_name": "FloatProgressModel",
            "_view_count": null,
            "_view_module": "@jupyter-widgets/controls",
            "_view_module_version": "1.5.0",
            "_view_name": "ProgressView",
            "bar_style": "success",
            "description": "",
            "description_tooltip": null,
            "layout": "IPY_MODEL_edff4338d8384041b21ebfd9cf8d52dd",
            "max": 28918,
            "min": 0,
            "orientation": "horizontal",
            "style": "IPY_MODEL_66010c51153244d4b111cc0f84c22adc",
            "value": 28918
          }
        },
        "b077900618e54cf2b82b5a0cb980bf4a": {
          "model_module": "@jupyter-widgets/controls",
          "model_name": "HTMLModel",
          "model_module_version": "1.5.0",
          "state": {
            "_dom_classes": [],
            "_model_module": "@jupyter-widgets/controls",
            "_model_module_version": "1.5.0",
            "_model_name": "HTMLModel",
            "_view_count": null,
            "_view_module": "@jupyter-widgets/controls",
            "_view_module_version": "1.5.0",
            "_view_name": "HTMLView",
            "description": "",
            "description_tooltip": null,
            "layout": "IPY_MODEL_e480c2d6f53d49a887d39a3e2fe7572b",
            "placeholder": "​",
            "style": "IPY_MODEL_6c6c257cd8464594a963d81d08cced6f",
            "value": " 193k/? [00:00&lt;00:00, 3.67MB/s]"
          }
        },
        "d15a8a203b724bf0aa506a24dd0ef347": {
          "model_module": "@jupyter-widgets/base",
          "model_name": "LayoutModel",
          "model_module_version": "1.2.0",
          "state": {
            "_model_module": "@jupyter-widgets/base",
            "_model_module_version": "1.2.0",
            "_model_name": "LayoutModel",
            "_view_count": null,
            "_view_module": "@jupyter-widgets/base",
            "_view_module_version": "1.2.0",
            "_view_name": "LayoutView",
            "align_content": null,
            "align_items": null,
            "align_self": null,
            "border": null,
            "bottom": null,
            "display": null,
            "flex": null,
            "flex_flow": null,
            "grid_area": null,
            "grid_auto_columns": null,
            "grid_auto_flow": null,
            "grid_auto_rows": null,
            "grid_column": null,
            "grid_gap": null,
            "grid_row": null,
            "grid_template_areas": null,
            "grid_template_columns": null,
            "grid_template_rows": null,
            "height": null,
            "justify_content": null,
            "justify_items": null,
            "left": null,
            "margin": null,
            "max_height": null,
            "max_width": null,
            "min_height": null,
            "min_width": null,
            "object_fit": null,
            "object_position": null,
            "order": null,
            "overflow": null,
            "overflow_x": null,
            "overflow_y": null,
            "padding": null,
            "right": null,
            "top": null,
            "visibility": null,
            "width": null
          }
        },
        "7fc15d0e3e2242e38f9956955a466b38": {
          "model_module": "@jupyter-widgets/base",
          "model_name": "LayoutModel",
          "model_module_version": "1.2.0",
          "state": {
            "_model_module": "@jupyter-widgets/base",
            "_model_module_version": "1.2.0",
            "_model_name": "LayoutModel",
            "_view_count": null,
            "_view_module": "@jupyter-widgets/base",
            "_view_module_version": "1.2.0",
            "_view_name": "LayoutView",
            "align_content": null,
            "align_items": null,
            "align_self": null,
            "border": null,
            "bottom": null,
            "display": null,
            "flex": null,
            "flex_flow": null,
            "grid_area": null,
            "grid_auto_columns": null,
            "grid_auto_flow": null,
            "grid_auto_rows": null,
            "grid_column": null,
            "grid_gap": null,
            "grid_row": null,
            "grid_template_areas": null,
            "grid_template_columns": null,
            "grid_template_rows": null,
            "height": null,
            "justify_content": null,
            "justify_items": null,
            "left": null,
            "margin": null,
            "max_height": null,
            "max_width": null,
            "min_height": null,
            "min_width": null,
            "object_fit": null,
            "object_position": null,
            "order": null,
            "overflow": null,
            "overflow_x": null,
            "overflow_y": null,
            "padding": null,
            "right": null,
            "top": null,
            "visibility": null,
            "width": null
          }
        },
        "96d6f5385bb549e3bfc5fdc9a34758c3": {
          "model_module": "@jupyter-widgets/controls",
          "model_name": "DescriptionStyleModel",
          "model_module_version": "1.5.0",
          "state": {
            "_model_module": "@jupyter-widgets/controls",
            "_model_module_version": "1.5.0",
            "_model_name": "DescriptionStyleModel",
            "_view_count": null,
            "_view_module": "@jupyter-widgets/base",
            "_view_module_version": "1.2.0",
            "_view_name": "StyleView",
            "description_width": ""
          }
        },
        "edff4338d8384041b21ebfd9cf8d52dd": {
          "model_module": "@jupyter-widgets/base",
          "model_name": "LayoutModel",
          "model_module_version": "1.2.0",
          "state": {
            "_model_module": "@jupyter-widgets/base",
            "_model_module_version": "1.2.0",
            "_model_name": "LayoutModel",
            "_view_count": null,
            "_view_module": "@jupyter-widgets/base",
            "_view_module_version": "1.2.0",
            "_view_name": "LayoutView",
            "align_content": null,
            "align_items": null,
            "align_self": null,
            "border": null,
            "bottom": null,
            "display": null,
            "flex": null,
            "flex_flow": null,
            "grid_area": null,
            "grid_auto_columns": null,
            "grid_auto_flow": null,
            "grid_auto_rows": null,
            "grid_column": null,
            "grid_gap": null,
            "grid_row": null,
            "grid_template_areas": null,
            "grid_template_columns": null,
            "grid_template_rows": null,
            "height": null,
            "justify_content": null,
            "justify_items": null,
            "left": null,
            "margin": null,
            "max_height": null,
            "max_width": null,
            "min_height": null,
            "min_width": null,
            "object_fit": null,
            "object_position": null,
            "order": null,
            "overflow": null,
            "overflow_x": null,
            "overflow_y": null,
            "padding": null,
            "right": null,
            "top": null,
            "visibility": null,
            "width": null
          }
        },
        "66010c51153244d4b111cc0f84c22adc": {
          "model_module": "@jupyter-widgets/controls",
          "model_name": "ProgressStyleModel",
          "model_module_version": "1.5.0",
          "state": {
            "_model_module": "@jupyter-widgets/controls",
            "_model_module_version": "1.5.0",
            "_model_name": "ProgressStyleModel",
            "_view_count": null,
            "_view_module": "@jupyter-widgets/base",
            "_view_module_version": "1.2.0",
            "_view_name": "StyleView",
            "bar_color": null,
            "description_width": ""
          }
        },
        "e480c2d6f53d49a887d39a3e2fe7572b": {
          "model_module": "@jupyter-widgets/base",
          "model_name": "LayoutModel",
          "model_module_version": "1.2.0",
          "state": {
            "_model_module": "@jupyter-widgets/base",
            "_model_module_version": "1.2.0",
            "_model_name": "LayoutModel",
            "_view_count": null,
            "_view_module": "@jupyter-widgets/base",
            "_view_module_version": "1.2.0",
            "_view_name": "LayoutView",
            "align_content": null,
            "align_items": null,
            "align_self": null,
            "border": null,
            "bottom": null,
            "display": null,
            "flex": null,
            "flex_flow": null,
            "grid_area": null,
            "grid_auto_columns": null,
            "grid_auto_flow": null,
            "grid_auto_rows": null,
            "grid_column": null,
            "grid_gap": null,
            "grid_row": null,
            "grid_template_areas": null,
            "grid_template_columns": null,
            "grid_template_rows": null,
            "height": null,
            "justify_content": null,
            "justify_items": null,
            "left": null,
            "margin": null,
            "max_height": null,
            "max_width": null,
            "min_height": null,
            "min_width": null,
            "object_fit": null,
            "object_position": null,
            "order": null,
            "overflow": null,
            "overflow_x": null,
            "overflow_y": null,
            "padding": null,
            "right": null,
            "top": null,
            "visibility": null,
            "width": null
          }
        },
        "6c6c257cd8464594a963d81d08cced6f": {
          "model_module": "@jupyter-widgets/controls",
          "model_name": "DescriptionStyleModel",
          "model_module_version": "1.5.0",
          "state": {
            "_model_module": "@jupyter-widgets/controls",
            "_model_module_version": "1.5.0",
            "_model_name": "DescriptionStyleModel",
            "_view_count": null,
            "_view_module": "@jupyter-widgets/base",
            "_view_module_version": "1.2.0",
            "_view_name": "StyleView",
            "description_width": ""
          }
        }
      }
    }
  },
  "cells": [
    {
      "cell_type": "code",
      "execution_count": 6,
      "metadata": {
        "colab": {
          "base_uri": "https://localhost:8080/",
          "height": 639,
          "referenced_widgets": [
            "cc5dab8c9e8640f08107f347f268a498",
            "9c8a002ccf064ccb85a7b3e3b75bbe07",
            "b9c79af753e244b592211e20e2af5545",
            "b077900618e54cf2b82b5a0cb980bf4a",
            "d15a8a203b724bf0aa506a24dd0ef347",
            "7fc15d0e3e2242e38f9956955a466b38",
            "96d6f5385bb549e3bfc5fdc9a34758c3",
            "edff4338d8384041b21ebfd9cf8d52dd",
            "66010c51153244d4b111cc0f84c22adc",
            "e480c2d6f53d49a887d39a3e2fe7572b",
            "6c6c257cd8464594a963d81d08cced6f"
          ]
        },
        "id": "COsjC1C-h83W",
        "outputId": "216b62fb-e7ff-4483-8cb5-7af521b8ff54"
      },
      "outputs": [
        {
          "output_type": "stream",
          "name": "stdout",
          "text": [
            "Looking in indexes: https://pypi.org/simple, https://us-python.pkg.dev/colab-wheels/public/simple/\n",
            "Requirement already satisfied: stanza in /usr/local/lib/python3.7/dist-packages (1.4.2)\n",
            "Requirement already satisfied: requests in /usr/local/lib/python3.7/dist-packages (from stanza) (2.23.0)\n",
            "Requirement already satisfied: emoji in /usr/local/lib/python3.7/dist-packages (from stanza) (2.2.0)\n",
            "Requirement already satisfied: six in /usr/local/lib/python3.7/dist-packages (from stanza) (1.15.0)\n",
            "Requirement already satisfied: torch>=1.3.0 in /usr/local/lib/python3.7/dist-packages (from stanza) (1.12.1+cu113)\n",
            "Requirement already satisfied: tqdm in /usr/local/lib/python3.7/dist-packages (from stanza) (4.64.1)\n",
            "Requirement already satisfied: protobuf in /usr/local/lib/python3.7/dist-packages (from stanza) (3.17.3)\n",
            "Requirement already satisfied: numpy in /usr/local/lib/python3.7/dist-packages (from stanza) (1.21.6)\n",
            "Requirement already satisfied: typing-extensions in /usr/local/lib/python3.7/dist-packages (from torch>=1.3.0->stanza) (4.1.1)\n",
            "Requirement already satisfied: urllib3!=1.25.0,!=1.25.1,<1.26,>=1.21.1 in /usr/local/lib/python3.7/dist-packages (from requests->stanza) (1.24.3)\n",
            "Requirement already satisfied: idna<3,>=2.5 in /usr/local/lib/python3.7/dist-packages (from requests->stanza) (2.10)\n",
            "Requirement already satisfied: certifi>=2017.4.17 in /usr/local/lib/python3.7/dist-packages (from requests->stanza) (2022.9.24)\n",
            "Requirement already satisfied: chardet<4,>=3.0.2 in /usr/local/lib/python3.7/dist-packages (from requests->stanza) (3.0.4)\n",
            "Looking in indexes: https://pypi.org/simple, https://us-python.pkg.dev/colab-wheels/public/simple/\n",
            "Requirement already satisfied: PySimpleGUI in /usr/local/lib/python3.7/dist-packages (4.60.4)\n"
          ]
        },
        {
          "output_type": "stream",
          "name": "stderr",
          "text": [
            "INFO:stanza:Checking for updates to resources.json in case models have been updated.  Note: this behavior can be turned off with download_method=None or download_method=DownloadMethod.REUSE_RESOURCES\n"
          ]
        },
        {
          "output_type": "display_data",
          "data": {
            "text/plain": [
              "Downloading https://raw.githubusercontent.com/stanfordnlp/stanza-resources/main/resources_1.4.1.json:   0%|   …"
            ],
            "application/vnd.jupyter.widget-view+json": {
              "version_major": 2,
              "version_minor": 0,
              "model_id": "cc5dab8c9e8640f08107f347f268a498"
            }
          },
          "metadata": {}
        },
        {
          "output_type": "stream",
          "name": "stderr",
          "text": [
            "INFO:stanza:Loading these models for language: it (Italian):\n",
            "========================\n",
            "| Processor | Package  |\n",
            "------------------------\n",
            "| tokenize  | combined |\n",
            "| mwt       | combined |\n",
            "| pos       | combined |\n",
            "| lemma     | combined |\n",
            "========================\n",
            "\n",
            "INFO:stanza:Use device: cpu\n",
            "INFO:stanza:Loading: tokenize\n",
            "INFO:stanza:Loading: mwt\n",
            "INFO:stanza:Loading: pos\n",
            "INFO:stanza:Loading: lemma\n",
            "INFO:stanza:Done loading processors!\n"
          ]
        },
        {
          "output_type": "stream",
          "name": "stdout",
          "text": [
            "Drive already mounted at /content/drive; to attempt to forcibly remount, call drive.mount(\"/content/drive\", force_remount=True).\n"
          ]
        }
      ],
      "source": [
        "import csv\n",
        "import pandas as pd\n",
        "import requests\n",
        "import urllib.request\n",
        "from IPython.display import Image\n",
        "import spacy\n",
        "from PIL import Image, ImageDraw, ImageFont\n",
        "!pip install -U stanza\n",
        "import stanza\n",
        "import string\n",
        "from os import listdir\n",
        "import matplotlib.pyplot as plt\n",
        "import os\n",
        "import re\n",
        "!pip install -U PySimpleGUI\n",
        "import PySimpleGUI as sg\n",
        "import matplotlib.pyplot as plt\n",
        "import numpy as np\n",
        "from PIL import Image, ImageTk,ImageDraw,ImageFont\n",
        "import warnings\n",
        "warnings.filterwarnings(\"ignore\")\n",
        "#stanza.download('it')\n",
        "nlp=stanza.Pipeline('it',processors='tokenize,mwt,pos,lemma')\n",
        "from google.colab import drive\n",
        "drive.mount(\"/content/drive\")\n",
        "\n",
        "def try_synset(lemmax):\n",
        "  global synsetFound\n",
        "  \n",
        "  synsetsList=[]\n",
        "  for synset in wn.synsets(lemmax,lang=('ita')):\n",
        "      for lemma in synset.lemma_names(u'ita'):\n",
        "          if(lemmax!=lemma):\n",
        "            synsetsList.append(lemma)\n",
        "  for i in range(len(synsetsList)):\n",
        "    response = requests.get(\"https://api.arasaac.org/api/pictograms/it/search/\" + synsetsList[i])\n",
        "    status = response.status_code\n",
        "    if status == 200:\n",
        "      synsetFound=True\n",
        "      j = response.json()\n",
        "      id = j[0]['_id']\n",
        "      return id\n",
        "\n",
        "def text_on_img(filename, text, size):\n",
        "    \n",
        "    if(len(text)<5):\n",
        "      fnt = ImageFont.truetype('/content/drive/MyDrive/arial.ttf', size)\n",
        "    else:\n",
        "      size=size-20\n",
        "      fnt = ImageFont.truetype('/content/drive/MyDrive/arial.ttf', size)\n",
        "    W, H = (280,280)\n",
        "    # create image\n",
        "    image = PIL.Image.new(mode = \"RGB\", size = (W,H), color = \"white\")\n",
        "    draw = ImageDraw.Draw(image)\n",
        "    w, h = draw.textsize(text,font=fnt)\n",
        "    # draw text\n",
        "    draw.text((((W-w)/2,(H-h)/3)), text,font=fnt, fill=(0,0,0))\n",
        "    # save file\n",
        "    image.save(path_CAA_pictograms+filename)\n",
        "\n",
        "def getInfo(word):\n",
        "    global synsetFound\n",
        "    synsetFound=False\n",
        "    global index\n",
        "\n",
        "    type=word[1]\n",
        "    if(type!='PROPN'):\n",
        "      token=word[0].lower()\n",
        "      lemma=word[2].lower()\n",
        "    else:\n",
        "      token = word[0]\n",
        "      lemma=word[2]\n",
        "    gender=\"\"\n",
        "    \"\"\"if(type=='DET'):\n",
        "      lemma=token\"\"\"\n",
        "    if(type=='NOUN'):\n",
        "      lemma=token\n",
        "    if(type=='NOUN' or type=='DET' or type=='PRON' or type=='ADJ'):\n",
        "      if(word[3]!=None):\n",
        "\n",
        "        splitted=word[3].split(\"|\")\n",
        "        for i in range(len(splitted)):\n",
        "            if splitted[i].find(\"Gender\")!=-1:\n",
        "              gender=splitted[i].split(\"=\")[1]\n",
        "        if(gender==\"Fem\" and gender!=\"\"):\n",
        "          lemma=token\n",
        "    #lemma=word[2]\n",
        "    action = 'indef'\n",
        "    result = []\n",
        "\n",
        "    #identify if the word is a verb or auxiliar    \n",
        "    if (type == 'AUX'):\n",
        "        \n",
        "        tense=word[3].split(\"|\")[3].split(\"=\")[1]\n",
        "        \n",
        "        if(tense==\"Past\" or tense==\"Imp\"):\n",
        "          action=\"past\"\n",
        "        if(tense==\"Fut\"):\n",
        "          action='future'\n",
        "    \n",
        "    if (type == 'VERB'):\n",
        "        if not word[3].split(\"=\")[1]==\"Inf\":\n",
        "              \n",
        "            tense=word[3].split(\"|\")[2].split(\"=\")[1]\n",
        "            \n",
        "            if(tense==\"Past\" or tense==\"Imp\"):\n",
        "              action=\"past\"\n",
        "            if(tense==\"Fut\"):\n",
        "              action='future'\n",
        "    \n",
        "    result.append(lemma) #add to the list the token  #TOKENCAA [0]\n",
        "    result.append(action) #add to the list the action   #ACTION [1]\n",
        "\n",
        "    number=\"sing\"\n",
        "    if(type!='ADP' and type!='ADV' and type!='INTJ' and type!='PUNCT' and type!='CCONJ' and type!='PROPN' and type!='SCONJ' and type!='X'):\n",
        "      if(word[3]!=None):\n",
        "          \n",
        "        plural=word[3].split(\"|\")\n",
        "        \n",
        "        for i in range(len(plural)):\n",
        "            if plural[i].find(\"Number\")!=-1:\n",
        "              number=plural[i].split(\"=\")[1]\n",
        "              \n",
        "    result.append(number)\n",
        "    response = requests.get(\"https://api.arasaac.org/api/pictograms/it/search/\" + lemma) #Obtain best pictograms based on the searchText\n",
        "    status = response.status_code\n",
        "    if status == 200:\n",
        "\n",
        "      j = response.json()\n",
        "      keywords=[]\n",
        "      for word2 in j:\n",
        "          try:\n",
        "            keyword=word2[\"keywords\"][0][\"keyword\"]\n",
        "            if(len(keyword)>=len(token)):\n",
        "              if(len(keyword)>3):\n",
        "                keywords.append(keyword)\n",
        "            if(len(keywords)==10):\n",
        "              break\n",
        "          except:\n",
        "            print(\"Something went wrong\")\n",
        "      if(len(keywords)>0):\n",
        "        \"\"\"if(keywords[0]!=token):\n",
        "          keywords=[]\"\"\"\n",
        "        keywords=[s for s in keywords if s != lemma and s != word[2] ]\n",
        "        present=False\n",
        "        for keyword in keywords:\n",
        "            \n",
        "            if lemma_sentence.find(keyword)!=-1:\n",
        "                present=True\n",
        "                words=len(keyword.split(\" \"))\n",
        "                print(words,\": \",keyword)\n",
        "                global index\n",
        "                index+=words\n",
        "                global words_for_images\n",
        "                words_for_images.append(keyword)\n",
        "                response2 = requests.get(\"https://api.arasaac.org/api/pictograms/it/bestsearch/\" + keyword)\n",
        "                j2=response2.json()\n",
        "                id = j2[0]['_id']\n",
        "                result.append(id)\n",
        "                index+=1\n",
        "                return result\n",
        "                break\n",
        "    \n",
        "    response = requests.get(\"https://api.arasaac.org/api/pictograms/it/bestsearch/\" + lemma)\n",
        "    j = response.json()\n",
        "    status = response.status_code\n",
        "    if status == 200:\n",
        "      \n",
        "      id = j[0]['_id'] #extract id by response\n",
        "      result.append(id) #add to the list the id #ID [2]\n",
        "      \n",
        "      words_for_images.append(token)\n",
        "      \n",
        "      return result\n",
        "    elif status == 404:\n",
        "      print('404-no pictogram associated with this word exists =', lemma)\n",
        "      id=try_synset(lemma)\n",
        "      if(synsetFound==True):\n",
        "        result.append(id)\n",
        "        words_for_images.append(token)\n",
        "        return result\n",
        "      else:\n",
        "        print(\"No synset found\")\n",
        "        #print('saving img n: ',index)\n",
        "        if(type=='VERB' or type=='AUX'):\n",
        "          text_on_img(filename=str(index)+\".png\",text=token, size=70)\n",
        "          words_for_images.append(token)\n",
        "          index_list.append(index)\n",
        "        else:\n",
        "          text_on_img(filename=str(index)+\".png\",text=lemma, size=70)\n",
        "          words_for_images.append(lemma)\n",
        "          index_list.append(index)\n",
        "        index+=1\n",
        "        \n",
        "        return result\n",
        "    elif status == 400:\n",
        "      print('400-no pictogram associated with this word exists =', lemma)\n",
        "      #print('saving img n: ',index)\n",
        "      if(type=='VERB' or type=='AUX'):\n",
        "        text_on_img(filename=str(index)+\".png\",text=token, size=100)\n",
        "        words_for_images.append(token)\n",
        "        index_list.append(index)\n",
        "      else:\n",
        "        text_on_img(filename=str(index)+\".png\",text=lemma, size=100)\n",
        "        words_for_images.append(lemma)\n",
        "        index_list.append(index)\n",
        "      index+=1\n",
        "      \n",
        "      return result\n",
        "    elif status == 500:\n",
        "      print('500 status')\n",
        "      index+=1\n",
        "      words_for_images.append(lemma)\n",
        "      \n",
        "      return result\n",
        "    \n",
        "path_CAA_pictograms = \"/content/drive/MyDrive/immagini/\"\n",
        "\n",
        "def getArray_id(words):\n",
        "  array_id = []\n",
        "  infos=[]\n",
        "  global pics\n",
        "  pics=[]\n",
        "  global index\n",
        "  while index<len(words):\n",
        "    info = getInfo(words[index]) #TOKENCAA [0] | ACTION [1] | PLURAL_STATUS[2] | ID[3]\n",
        "    #print(\"info:\",info)\n",
        "    if(len(info)==4):\n",
        "      pics.append(info[3])\n",
        "    infos.append(info)\n",
        "    if(len(info)==4):\n",
        "\n",
        "      action = info[1]\n",
        "      id = info[3]\n",
        "      plural_status = info[2]\n",
        "      array_id.append(id) #add id to array_id\n",
        "      getImg(id, plural_status,action) #save img\n",
        "  \n",
        "  return infos\n",
        "\n",
        "def getImg(id, plural_status,action): #parameter:id, plural_status, action\n",
        "  #print('id','id')\n",
        "  global index\n",
        "  global index_list\n",
        "  if plural_status==\"Plur\":\n",
        "    #Copy a network object denoted by a URL to a local file\n",
        "    urllib.request.urlretrieve('https://static.arasaac.org/pictograms/'+str(id)+'/'+str(id)+'_plural_300.png',\n",
        "   path_CAA_pictograms+str(index)+'.png')\n",
        "    #print('saving img n: ',index)\n",
        "    index_list.append(index)\n",
        "    index+=1\n",
        "    \n",
        "  elif not action == 'indef':\n",
        "    #Copy a network object denoted by a URL to a local file\n",
        "    urllib.request.urlretrieve('https://static.arasaac.org/pictograms/'+str(id)+'/'+str(id)+'_action-'+action+'_300.png',\n",
        "   path_CAA_pictograms +str(index)+'.png')\n",
        "    #print('saving img n: ',index)\n",
        "    index_list.append(index)\n",
        "    index+=1\n",
        "    \n",
        "  else:\n",
        "     #Copy a network object denoted by a URL to a local file\n",
        "    urllib.request.urlretrieve('https://static.arasaac.org/pictograms/'+str(id)+'/'+str(id)+'_300.png',\n",
        "   path_CAA_pictograms+str(index)+'.png')\n",
        "    #print('saving img n: ',index)\n",
        "    index_list.append(index)\n",
        "    index+=1\n",
        "\n",
        "def translate(input_text):\n",
        "  global index\n",
        "  index=0\n",
        "  global index_list\n",
        "  index_list=[]\n",
        "  global lemma_sentence\n",
        "  lemma_sentence=\"\"\n",
        "  global words_for_images\n",
        "  words_for_images=[]\n",
        "  frase=str(input_text)\n",
        "  #print(frase)\n",
        "  frase=re.sub(r\"[-()\\\"#/@;:<>{}`+=~|$%&]\", \"\", frase)\n",
        "  #frase= input()\n",
        "  #words_for_images=[]\n",
        "\n",
        "  import glob\n",
        "  fileList = glob.glob('/content/drive/MyDrive/ImagesSingleTranslation/*.png')\n",
        "  for filePath in fileList:\n",
        "    os.remove(filePath)\n",
        "\n",
        "  doc=nlp(frase)\n",
        "  #index=0\n",
        "  lemmas=[]\n",
        "  for sentence in doc.sentences:\n",
        "      posT=[(w.text, w.pos,w.lemma,w.feats) for w in sentence.words]\n",
        "      print(posT)\n",
        "      for i in posT:\n",
        "        lemmas.append(i[2])\n",
        "      lemma_sentence=\"\"\n",
        "      for i in lemmas:\n",
        "        lemma_sentence+=i\n",
        "        lemma_sentence+=\" \"\n",
        "      getArray_id(posT)\n",
        "\n",
        "      print('words for images: ',words_for_images)\n",
        "      print('pics: ',pics)\n",
        "                      \n",
        "      #plt.show()\n",
        "      return(pics)\n",
        "\n",
        "index=0\n",
        "lemma_sentence=\"\"\n",
        "words_for_images=[]\n",
        "pics=[]"
      ]
    },
    {
      "cell_type": "code",
      "source": [
        "from google.colab import widgets\n",
        "from IPython.display import Image, display\n",
        "translate(\"Gioco in un campo da tennis\")\n",
        "grid=widgets.Grid(1,len(words_for_images),header_row=True,header_column=True)\n",
        "j=0\n",
        "for word, i in zip(words_for_images, index_list):\n",
        "  with grid.output_to(0, j):\n",
        "      print(word)\n",
        "      display(Image(path_CAA_pictograms+str(i)+'.png',width=70, height=70))\n",
        "      j+=1"
      ],
      "metadata": {
        "colab": {
          "base_uri": "https://localhost:8080/",
          "height": 198
        },
        "id": "0JWxIHt1i7IM",
        "outputId": "b73f80c3-31cb-48bc-ffd9-18785d7b62d1"
      },
      "execution_count": 7,
      "outputs": [
        {
          "output_type": "stream",
          "name": "stdout",
          "text": [
            "[('Gioco', 'NOUN', 'gioco', 'Gender=Masc|Number=Sing'), ('in', 'ADP', 'in', None), ('un', 'DET', 'uno', 'Definite=Ind|Gender=Masc|Number=Sing|PronType=Art'), ('campo', 'NOUN', 'campo', 'Gender=Masc|Number=Sing'), ('da', 'ADP', 'da', None), ('tennis', 'NOUN', 'tennis', 'Gender=Masc|Number=Sing')]\n",
            "3 :  campo da tennis\n",
            "words for images:  ['gioco', 'in', 'un', 'campo da tennis']\n",
            "pics:  [9810, 7034, 2627, 5068]\n"
          ]
        },
        {
          "output_type": "display_data",
          "data": {
            "text/plain": [
              "<IPython.core.display.HTML object>"
            ],
            "text/html": [
              "<style>\n",
              "       table#id4, #id4 > tbody > tr > th, #id4 > tbody > tr > td {\n",
              "         border: 1px solid lightgray;\n",
              "         border-collapse:collapse;\n",
              "         \n",
              "        }</style>"
            ]
          },
          "metadata": {}
        },
        {
          "output_type": "display_data",
          "data": {
            "text/plain": [
              "<IPython.core.display.HTML object>"
            ],
            "text/html": [
              "<table id=id4><tr><th id=id4-0-0></th><th id=id4-0-1></th><th id=id4-0-2></th><th id=id4-0-3></th></tr></table>"
            ]
          },
          "metadata": {}
        },
        {
          "output_type": "display_data",
          "data": {
            "text/plain": [
              "<IPython.core.display.Javascript object>"
            ],
            "application/javascript": [
              "window[\"b97ec442-5ed2-11ed-9fff-0242ac1c0002\"] = google.colab.output.getActiveOutputArea();\n",
              "//# sourceURL=js_f71572dea2"
            ]
          },
          "metadata": {}
        },
        {
          "output_type": "display_data",
          "data": {
            "text/plain": [
              "<IPython.core.display.Javascript object>"
            ],
            "application/javascript": [
              "window[\"b97f4250-5ed2-11ed-9fff-0242ac1c0002\"] = document.querySelector(\"#id4-0-0\");\n",
              "//# sourceURL=js_40ca525e38"
            ]
          },
          "metadata": {}
        },
        {
          "output_type": "display_data",
          "data": {
            "text/plain": [
              "<IPython.core.display.Javascript object>"
            ],
            "application/javascript": [
              "window[\"b97fda4e-5ed2-11ed-9fff-0242ac1c0002\"] = google.colab.output.setActiveOutputArea(window[\"b97f4250-5ed2-11ed-9fff-0242ac1c0002\"]);\n",
              "//# sourceURL=js_753cfa9eaf"
            ]
          },
          "metadata": {}
        },
        {
          "output_type": "stream",
          "name": "stdout",
          "text": [
            "gioco\n"
          ]
        },
        {
          "output_type": "display_data",
          "data": {
            "image/png": "[encoded data removed]",
            "text/plain": [
              "<IPython.core.display.Image object>"
            ]
          },
          "metadata": {
            "image/png": {
              "width": 70,
              "height": 70
            }
          }
        },
        {
          "output_type": "display_data",
          "data": {
            "text/plain": [
              "<IPython.core.display.Javascript object>"
            ],
            "application/javascript": [
              "window[\"b982fb84-5ed2-11ed-9fff-0242ac1c0002\"] = google.colab.output.setActiveOutputArea(window[\"b97ec442-5ed2-11ed-9fff-0242ac1c0002\"]);\n",
              "//# sourceURL=js_c7a9090aa6"
            ]
          },
          "metadata": {}
        },
        {
          "output_type": "display_data",
          "data": {
            "text/plain": [
              "<IPython.core.display.Javascript object>"
            ],
            "application/javascript": [
              "window[\"b9867ac0-5ed2-11ed-9fff-0242ac1c0002\"] = google.colab.output.getActiveOutputArea();\n",
              "//# sourceURL=js_cd667ea649"
            ]
          },
          "metadata": {}
        },
        {
          "output_type": "display_data",
          "data": {
            "text/plain": [
              "<IPython.core.display.Javascript object>"
            ],
            "application/javascript": [
              "window[\"b986fee6-5ed2-11ed-9fff-0242ac1c0002\"] = document.querySelector(\"#id4-0-1\");\n",
              "//# sourceURL=js_fbe1db2e2d"
            ]
          },
          "metadata": {}
        },
        {
          "output_type": "display_data",
          "data": {
            "text/plain": [
              "<IPython.core.display.Javascript object>"
            ],
            "application/javascript": [
              "window[\"b987a4ea-5ed2-11ed-9fff-0242ac1c0002\"] = google.colab.output.setActiveOutputArea(window[\"b986fee6-5ed2-11ed-9fff-0242ac1c0002\"]);\n",
              "//# sourceURL=js_0048a17dda"
            ]
          },
          "metadata": {}
        },
        {
          "output_type": "stream",
          "name": "stdout",
          "text": [
            "in\n"
          ]
        },
        {
          "output_type": "display_data",
          "data": {
            "image/png": "[encoded data removed]",
            "text/plain": [
              "<IPython.core.display.Image object>"
            ]
          },
          "metadata": {
            "image/png": {
              "width": 70,
              "height": 70
            }
          }
        },
        {
          "output_type": "display_data",
          "data": {
            "text/plain": [
              "<IPython.core.display.Javascript object>"
            ],
            "application/javascript": [
              "window[\"b98b86d2-5ed2-11ed-9fff-0242ac1c0002\"] = google.colab.output.setActiveOutputArea(window[\"b9867ac0-5ed2-11ed-9fff-0242ac1c0002\"]);\n",
              "//# sourceURL=js_8ef44091de"
            ]
          },
          "metadata": {}
        },
        {
          "output_type": "display_data",
          "data": {
            "text/plain": [
              "<IPython.core.display.Javascript object>"
            ],
            "application/javascript": [
              "window[\"b98fdcbe-5ed2-11ed-9fff-0242ac1c0002\"] = google.colab.output.getActiveOutputArea();\n",
              "//# sourceURL=js_ba010bfd22"
            ]
          },
          "metadata": {}
        },
        {
          "output_type": "display_data",
          "data": {
            "text/plain": [
              "<IPython.core.display.Javascript object>"
            ],
            "application/javascript": [
              "window[\"b9906ef4-5ed2-11ed-9fff-0242ac1c0002\"] = document.querySelector(\"#id4-0-2\");\n",
              "//# sourceURL=js_46956cc851"
            ]
          },
          "metadata": {}
        },
        {
          "output_type": "display_data",
          "data": {
            "text/plain": [
              "<IPython.core.display.Javascript object>"
            ],
            "application/javascript": [
              "window[\"b991dc6c-5ed2-11ed-9fff-0242ac1c0002\"] = google.colab.output.setActiveOutputArea(window[\"b9906ef4-5ed2-11ed-9fff-0242ac1c0002\"]);\n",
              "//# sourceURL=js_d2a1f21547"
            ]
          },
          "metadata": {}
        },
        {
          "output_type": "stream",
          "name": "stdout",
          "text": [
            "un\n"
          ]
        },
        {
          "output_type": "display_data",
          "data": {
            "image/png": "[encoded data removed]",
            "text/plain": [
              "<IPython.core.display.Image object>"
            ]
          },
          "metadata": {
            "image/png": {
              "width": 70,
              "height": 70
            }
          }
        },
        {
          "output_type": "display_data",
          "data": {
            "text/plain": [
              "<IPython.core.display.Javascript object>"
            ],
            "application/javascript": [
              "window[\"b9974008-5ed2-11ed-9fff-0242ac1c0002\"] = google.colab.output.setActiveOutputArea(window[\"b98fdcbe-5ed2-11ed-9fff-0242ac1c0002\"]);\n",
              "//# sourceURL=js_21c3bd0bc9"
            ]
          },
          "metadata": {}
        },
        {
          "output_type": "display_data",
          "data": {
            "text/plain": [
              "<IPython.core.display.Javascript object>"
            ],
            "application/javascript": [
              "window[\"b99a8768-5ed2-11ed-9fff-0242ac1c0002\"] = google.colab.output.getActiveOutputArea();\n",
              "//# sourceURL=js_f87e259164"
            ]
          },
          "metadata": {}
        },
        {
          "output_type": "display_data",
          "data": {
            "text/plain": [
              "<IPython.core.display.Javascript object>"
            ],
            "application/javascript": [
              "window[\"b99ae60e-5ed2-11ed-9fff-0242ac1c0002\"] = document.querySelector(\"#id4-0-3\");\n",
              "//# sourceURL=js_476f606746"
            ]
          },
          "metadata": {}
        },
        {
          "output_type": "display_data",
          "data": {
            "text/plain": [
              "<IPython.core.display.Javascript object>"
            ],
            "application/javascript": [
              "window[\"b99b45fe-5ed2-11ed-9fff-0242ac1c0002\"] = google.colab.output.setActiveOutputArea(window[\"b99ae60e-5ed2-11ed-9fff-0242ac1c0002\"]);\n",
              "//# sourceURL=js_9f0a5c981c"
            ]
          },
          "metadata": {}
        },
        {
          "output_type": "stream",
          "name": "stdout",
          "text": [
            "campo da tennis\n"
          ]
        },
        {
          "output_type": "display_data",
          "data": {
            "image/png": "[encoded data removed]",
            "text/plain": [
              "<IPython.core.display.Image object>"
            ]
          },
          "metadata": {
            "image/png": {
              "width": 70,
              "height": 70
            }
          }
        },
        {
          "output_type": "display_data",
          "data": {
            "text/plain": [
              "<IPython.core.display.Javascript object>"
            ],
            "application/javascript": [
              "window[\"b99db758-5ed2-11ed-9fff-0242ac1c0002\"] = google.colab.output.setActiveOutputArea(window[\"b99a8768-5ed2-11ed-9fff-0242ac1c0002\"]);\n",
              "//# sourceURL=js_5afa41f8a7"
            ]
          },
          "metadata": {}
        }
      ]
    }
  ]
}